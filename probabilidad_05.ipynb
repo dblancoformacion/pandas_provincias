{
 "cells": [
  {
   "cell_type": "markdown",
   "metadata": {},
   "source": [
    "# Ejercicios EVAU\n",
    "https://www.youtube.com/watch?v=Z0n9Vsviyy0&list=PLOa7j0qx0jgO0QePXkf32LHi1mlj39tA-\n",
    "https://www.youtube.com/watch?v=Tm7Mqkz4ZV8\n",
    "https://www.youtube.com/watch?v=AnnwcqitUl0"
   ]
  },
  {
   "cell_type": "markdown",
   "metadata": {},
   "source": [
    "### Ley de Morgan\n",
    "### El 40% de una población tiene internet, el 33% ve TV por cable y el 20% posee ambas características. ¿Que porcentaje de la población ve sólo TV por cable? (Sin hacer uso de internet) ¿Qué porcentaje de la población no tiene ninguno de los servicios?"
   ]
  },
  {
   "cell_type": "code",
   "execution_count": 5,
   "metadata": {},
   "outputs": [
    {
     "data": {
      "text/plain": [
       "13.0"
      ]
     },
     "execution_count": 5,
     "metadata": {},
     "output_type": "execute_result"
    }
   ],
   "source": [
    "# Probalidad de que vea la tv por cable sin hacer de internet\n",
    "# P( B - AyB ) = P(B) - P(AyB)\n",
    "(0.33-0.2)*100"
   ]
  },
  {
   "cell_type": "code",
   "execution_count": 6,
   "metadata": {},
   "outputs": [
    {
     "data": {
      "text/plain": [
       "47.0"
      ]
     },
     "execution_count": 6,
     "metadata": {},
     "output_type": "execute_result"
    }
   ],
   "source": [
    "# 1-P(A+B) = 1 - ( P(A)+P(B)-P(AyB) )\n",
    "(1-(.4+.33-.2))*100"
   ]
  },
  {
   "cell_type": "markdown",
   "metadata": {},
   "source": [
    "### EVAU Madrid 2020\n",
    "\n",
    "### P(A u B)=.55, P(B|A)=.25, P(A' u B')=.9\n",
    "### a) P(AyB), P(A), P(B), P(B|A')\n",
    "### b) ¿A y B son independientes?"
   ]
  },
  {
   "cell_type": "code",
   "execution_count": 10,
   "metadata": {},
   "outputs": [
    {
     "data": {
      "text/plain": [
       "0.09999999999999998"
      ]
     },
     "execution_count": 10,
     "metadata": {},
     "output_type": "execute_result"
    }
   ],
   "source": [
    "# P(AyB)=1-P( A'u B')\n",
    "1-.9"
   ]
  },
  {
   "cell_type": "code",
   "execution_count": 13,
   "metadata": {},
   "outputs": [
    {
     "data": {
      "text/plain": [
       "0.3999999999999999"
      ]
     },
     "execution_count": 13,
     "metadata": {},
     "output_type": "execute_result"
    }
   ],
   "source": [
    "# P(A) = P(AyB)/P(B|A)\n",
    "(1-.9)/.25"
   ]
  },
  {
   "cell_type": "code",
   "execution_count": 18,
   "metadata": {},
   "outputs": [
    {
     "data": {
      "text/plain": [
       "0.25"
      ]
     },
     "execution_count": 18,
     "metadata": {},
     "output_type": "execute_result"
    }
   ],
   "source": [
    "# P(AuB) = P(A)+P(B)-P(AyB)\n",
    "# P(B) = P(AuB)+P(AyB)-P(A)\n",
    ".55+.1-.4"
   ]
  },
  {
   "cell_type": "code",
   "execution_count": 19,
   "metadata": {},
   "outputs": [
    {
     "data": {
      "text/plain": [
       "0.25"
      ]
     },
     "execution_count": 19,
     "metadata": {},
     "output_type": "execute_result"
    }
   ],
   "source": [
    "# P(B|A')=P(ByA')/P(A')\n",
    "# A'y B = B - (AyB)\n",
    "(.25-.1)/(1-.4)"
   ]
  },
  {
   "cell_type": "code",
   "execution_count": 20,
   "metadata": {},
   "outputs": [
    {
     "data": {
      "text/plain": [
       "True"
      ]
     },
     "execution_count": 20,
     "metadata": {},
     "output_type": "execute_result"
    }
   ],
   "source": [
    "# P(AyB)=P(A)*P(B)\n",
    ".4*.25 == .1"
   ]
  },
  {
   "cell_type": "markdown",
   "metadata": {},
   "source": [
    "### 4º ESO\n",
    "### 8 bolas rojas, 3 blancas y 9 azules de las que extraemos 3\n",
    "### a) Probabilidad de que 3 sean blancas\n",
    "### b) Probabilidad de que 2 sean rojas y 1 blanca\n",
    "### c) Probabilidad de que 1 sea de cada color en el orden RBA\n",
    "### d) Probabilidad de alguna blanca\n",
    "### e) Probabilidad de una de cada color"
   ]
  },
  {
   "cell_type": "code",
   "execution_count": null,
   "metadata": {},
   "outputs": [],
   "source": []
  }
 ],
 "metadata": {
  "kernelspec": {
   "display_name": "Python 3",
   "language": "python",
   "name": "python3"
  },
  "language_info": {
   "codemirror_mode": {
    "name": "ipython",
    "version": 3
   },
   "file_extension": ".py",
   "mimetype": "text/x-python",
   "name": "python",
   "nbconvert_exporter": "python",
   "pygments_lexer": "ipython3",
   "version": "3.7.4"
  }
 },
 "nbformat": 4,
 "nbformat_minor": 4
}
