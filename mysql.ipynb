{
 "cells": [
  {
   "cell_type": "markdown",
   "metadata": {},
   "source": [
    "# MySQL desde Python y Notebook"
   ]
  },
  {
   "cell_type": "code",
   "execution_count": 109,
   "metadata": {},
   "outputs": [],
   "source": [
    "import pymysql"
   ]
  },
  {
   "cell_type": "code",
   "execution_count": 110,
   "metadata": {},
   "outputs": [],
   "source": [
    "# creamos la conexión entre python y el servidor mysql\n",
    "# ¡¡Recuerda arrancar el servidor con xampp!!\n",
    "con = pymysql.connect('localhost','root','','provincias')"
   ]
  },
  {
   "cell_type": "code",
   "execution_count": 111,
   "metadata": {},
   "outputs": [],
   "source": [
    "# creamos un cursor de acceso a queries\n",
    "conn = con.cursor()"
   ]
  },
  {
   "cell_type": "code",
   "execution_count": 112,
   "metadata": {},
   "outputs": [],
   "source": [
    "# enviamos la query al servidor mysql a través del cursor anterior\n",
    "conn.execute(\"\"\"\n",
    "    SELECT * FROM provincias;\n",
    "\"\"\")\n",
    "# capturamos el resultado de la query desde el cursor a la tupla rs\n",
    "rs = conn.fetchall()"
   ]
  },
  {
   "cell_type": "code",
   "execution_count": 113,
   "metadata": {},
   "outputs": [],
   "source": [
    "import pandas as pd"
   ]
  },
  {
   "cell_type": "code",
   "execution_count": 114,
   "metadata": {},
   "outputs": [
    {
     "data": {
      "text/html": [
       "<div>\n",
       "<style scoped>\n",
       "    .dataframe tbody tr th:only-of-type {\n",
       "        vertical-align: middle;\n",
       "    }\n",
       "\n",
       "    .dataframe tbody tr th {\n",
       "        vertical-align: top;\n",
       "    }\n",
       "\n",
       "    .dataframe thead th {\n",
       "        text-align: right;\n",
       "    }\n",
       "</style>\n",
       "<table border=\"1\" class=\"dataframe\">\n",
       "  <thead>\n",
       "    <tr style=\"text-align: right;\">\n",
       "      <th></th>\n",
       "      <th>autonomia</th>\n",
       "      <th>provincia</th>\n",
       "      <th>poblacion</th>\n",
       "      <th>superficie</th>\n",
       "    </tr>\n",
       "  </thead>\n",
       "  <tbody>\n",
       "    <tr>\n",
       "      <th>0</th>\n",
       "      <td>Galicia</td>\n",
       "      <td>La Coruña</td>\n",
       "      <td>1122799</td>\n",
       "      <td>7950</td>\n",
       "    </tr>\n",
       "    <tr>\n",
       "      <th>1</th>\n",
       "      <td>Galicia</td>\n",
       "      <td>Lugo</td>\n",
       "      <td>336527</td>\n",
       "      <td>9856</td>\n",
       "    </tr>\n",
       "    <tr>\n",
       "      <th>2</th>\n",
       "      <td>Galicia</td>\n",
       "      <td>Orense</td>\n",
       "      <td>314853</td>\n",
       "      <td>7273</td>\n",
       "    </tr>\n",
       "    <tr>\n",
       "      <th>3</th>\n",
       "      <td>Galicia</td>\n",
       "      <td>Pontevedra</td>\n",
       "      <td>944346</td>\n",
       "      <td>4494</td>\n",
       "    </tr>\n",
       "    <tr>\n",
       "      <th>4</th>\n",
       "      <td>Principado de Asturias</td>\n",
       "      <td>Asturias</td>\n",
       "      <td>1042608</td>\n",
       "      <td>10603</td>\n",
       "    </tr>\n",
       "  </tbody>\n",
       "</table>\n",
       "</div>"
      ],
      "text/plain": [
       "                autonomia   provincia  poblacion  superficie\n",
       "0                 Galicia   La Coruña    1122799        7950\n",
       "1                 Galicia        Lugo     336527        9856\n",
       "2                 Galicia      Orense     314853        7273\n",
       "3                 Galicia  Pontevedra     944346        4494\n",
       "4  Principado de Asturias    Asturias    1042608       10603"
      ]
     },
     "execution_count": 114,
     "metadata": {},
     "output_type": "execute_result"
    }
   ],
   "source": [
    "df = pd.DataFrame(rs)\n",
    "df.columns=['autonomia','provincia','poblacion','superficie']\n",
    "df.head()"
   ]
  },
  {
   "cell_type": "markdown",
   "metadata": {},
   "source": [
    "### Provincias que contengan la letra B"
   ]
  },
  {
   "cell_type": "code",
   "execution_count": 115,
   "metadata": {},
   "outputs": [
    {
     "name": "stdout",
     "output_type": "stream",
     "text": [
      "(('Cantabria',), ('Barcelona',), ('Córdoba',), ('Badajoz',), ('Burgos',), ('Albacete',), ('Baleares',))\n"
     ]
    }
   ],
   "source": [
    "conn.execute(\"\"\"\n",
    "    SELECT provincia FROM provincias\n",
    "        WHERE provincia LIKE '%b%';\n",
    "\"\"\")\n",
    "rs = conn.fetchall()\n",
    "print(rs)"
   ]
  },
  {
   "cell_type": "code",
   "execution_count": 116,
   "metadata": {
    "scrolled": true
   },
   "outputs": [
    {
     "data": {
      "text/plain": [
       "5     Cantabria\n",
       "14    Barcelona\n",
       "24      Córdoba\n",
       "31      Badajoz\n",
       "37       Burgos\n",
       "44     Albacete\n",
       "49     Baleares\n",
       "Name: provincia, dtype: object"
      ]
     },
     "execution_count": 116,
     "metadata": {},
     "output_type": "execute_result"
    }
   ],
   "source": [
    "df[(\n",
    "    df['provincia'].str.contains('B') | \n",
    "    df['provincia'].str.contains('b')\n",
    ")].provincia"
   ]
  },
  {
   "cell_type": "markdown",
   "metadata": {},
   "source": [
    "### Provincias que empiecen por B"
   ]
  },
  {
   "cell_type": "code",
   "execution_count": 117,
   "metadata": {},
   "outputs": [
    {
     "name": "stdout",
     "output_type": "stream",
     "text": [
      "(('Barcelona',), ('Badajoz',), ('Burgos',), ('Baleares',))\n"
     ]
    }
   ],
   "source": [
    "conn.execute(\"\"\"\n",
    "    SELECT provincia FROM provincias\n",
    "        WHERE provincia LIKE 'b%';\n",
    "\"\"\")\n",
    "rs = conn.fetchall()\n",
    "print(rs)"
   ]
  },
  {
   "cell_type": "code",
   "execution_count": 118,
   "metadata": {},
   "outputs": [
    {
     "data": {
      "text/plain": [
       "14    Barcelona\n",
       "31      Badajoz\n",
       "37       Burgos\n",
       "49     Baleares\n",
       "Name: provincia, dtype: object"
      ]
     },
     "execution_count": 118,
     "metadata": {},
     "output_type": "execute_result"
    }
   ],
   "source": [
    "df[ df.provincia.str[0]=='B' ].provincia"
   ]
  },
  {
   "cell_type": "markdown",
   "metadata": {},
   "source": [
    "### Provincia con los mismos caracteres que su autonomía"
   ]
  },
  {
   "cell_type": "code",
   "execution_count": 119,
   "metadata": {},
   "outputs": [
    {
     "data": {
      "text/plain": [
       "(('Cantabria',), ('La Rioja',), ('Huesca',), ('Teruel',))"
      ]
     },
     "execution_count": 119,
     "metadata": {},
     "output_type": "execute_result"
    }
   ],
   "source": [
    "conn.execute(\"\"\"\n",
    "    SELECT provincia FROM provincias\n",
    "        WHERE CHAR_LENGTH(provincia)=CHAR_LENGTH(autonomia);\n",
    "\"\"\")\n",
    "rs = conn.fetchall()\n",
    "rs"
   ]
  },
  {
   "cell_type": "code",
   "execution_count": 120,
   "metadata": {},
   "outputs": [
    {
     "data": {
      "text/plain": [
       "5     Cantabria\n",
       "9      La Rioja\n",
       "11       Huesca\n",
       "13       Teruel\n",
       "Name: provincia, dtype: object"
      ]
     },
     "execution_count": 120,
     "metadata": {},
     "output_type": "execute_result"
    }
   ],
   "source": [
    "df[ df.provincia.str.len()==df.autonomia.str.len() ].provincia"
   ]
  },
  {
   "cell_type": "markdown",
   "metadata": {},
   "source": [
    "### Lista de autonomías"
   ]
  },
  {
   "cell_type": "code",
   "execution_count": 121,
   "metadata": {},
   "outputs": [
    {
     "data": {
      "text/plain": [
       "(('Galicia',),\n",
       " ('Principado de Asturias',),\n",
       " ('Cantabria',),\n",
       " ('País Vasco',),\n",
       " ('La Rioja',),\n",
       " ('Comunidad Foral de Navarra',),\n",
       " ('Aragón',),\n",
       " ('Cataluña',),\n",
       " ('Comunidad Valenciana',),\n",
       " ('Región de Murcia',),\n",
       " ('Andalucía',),\n",
       " ('Extremadura',),\n",
       " ('Comunidad de Madrid',),\n",
       " ('Castilla y León',),\n",
       " ('Castilla-La Mancha',),\n",
       " ('Canarias',),\n",
       " ('Islas Baleares',))"
      ]
     },
     "execution_count": 121,
     "metadata": {},
     "output_type": "execute_result"
    }
   ],
   "source": [
    "conn.execute(\"\"\"\n",
    "    SELECT DISTINCT autonomia FROM provincias;\n",
    "\"\"\")\n",
    "rs = conn.fetchall()\n",
    "rs"
   ]
  },
  {
   "cell_type": "code",
   "execution_count": 122,
   "metadata": {},
   "outputs": [
    {
     "data": {
      "text/plain": [
       "array(['Galicia', 'Principado de Asturias', 'Cantabria', 'País Vasco',\n",
       "       'La Rioja', 'Comunidad Foral de Navarra', 'Aragón', 'Cataluña',\n",
       "       'Comunidad Valenciana', 'Región de Murcia', 'Andalucía',\n",
       "       'Extremadura', 'Comunidad de Madrid', 'Castilla y León',\n",
       "       'Castilla-La Mancha', 'Canarias', 'Islas Baleares'], dtype=object)"
      ]
     },
     "execution_count": 122,
     "metadata": {},
     "output_type": "execute_result"
    }
   ],
   "source": [
    "df.autonomia.unique()"
   ]
  },
  {
   "cell_type": "markdown",
   "metadata": {},
   "source": [
    "### Provincias de más de un millón de habitantes"
   ]
  },
  {
   "cell_type": "code",
   "execution_count": 123,
   "metadata": {},
   "outputs": [
    {
     "name": "stdout",
     "output_type": "stream",
     "text": [
      "La Coruña\n",
      "Asturias\n",
      "Vizcaya\n",
      "Barcelona\n",
      "Valencia\n",
      "Alicante\n",
      "Murcia\n",
      "Sevilla\n",
      "Málaga\n",
      "Cádiz\n",
      "Madrid\n",
      "Santa Cruz de Tenerife\n",
      "Las Palmas\n",
      "Baleares\n"
     ]
    }
   ],
   "source": [
    "conn.execute(\"\"\"\n",
    "    SELECT provincia FROM provincias\n",
    "        WHERE poblacion>1e6;\n",
    "\"\"\")\n",
    "rs = conn.fetchall()\n",
    "for i in rs: print(i[0])"
   ]
  },
  {
   "cell_type": "code",
   "execution_count": 124,
   "metadata": {},
   "outputs": [
    {
     "data": {
      "text/plain": [
       "0                  La Coruña\n",
       "4                   Asturias\n",
       "6                    Vizcaya\n",
       "14                 Barcelona\n",
       "19                  Valencia\n",
       "20                  Alicante\n",
       "21                    Murcia\n",
       "23                   Sevilla\n",
       "28                    Málaga\n",
       "29                     Cádiz\n",
       "32                    Madrid\n",
       "47    Santa Cruz de Tenerife\n",
       "48                Las Palmas\n",
       "49                  Baleares\n",
       "Name: provincia, dtype: object"
      ]
     },
     "execution_count": 124,
     "metadata": {},
     "output_type": "execute_result"
    }
   ],
   "source": [
    "df[ df.poblacion>1e6 ].provincia"
   ]
  },
  {
   "cell_type": "markdown",
   "metadata": {},
   "source": [
    "### Población de España"
   ]
  },
  {
   "cell_type": "code",
   "execution_count": 125,
   "metadata": {},
   "outputs": [
    {
     "name": "stdout",
     "output_type": "stream",
     "text": [
      "46386463\n"
     ]
    }
   ],
   "source": [
    "conn.execute(\"\"\"\n",
    "    SELECT SUM(poblacion) FROM provincias;\n",
    "\"\"\")\n",
    "rs = conn.fetchall()\n",
    "print(rs[0][0])"
   ]
  },
  {
   "cell_type": "code",
   "execution_count": 126,
   "metadata": {},
   "outputs": [
    {
     "data": {
      "text/plain": [
       "46386463"
      ]
     },
     "execution_count": 126,
     "metadata": {},
     "output_type": "execute_result"
    }
   ],
   "source": [
    "df.poblacion.sum()"
   ]
  },
  {
   "cell_type": "markdown",
   "metadata": {},
   "source": [
    "### Densidad de población de España"
   ]
  },
  {
   "cell_type": "code",
   "execution_count": 127,
   "metadata": {},
   "outputs": [
    {
     "name": "stdout",
     "output_type": "stream",
     "text": [
      "91.7274\n"
     ]
    }
   ],
   "source": [
    "conn.execute(\"\"\"\n",
    "    SELECT SUM(poblacion)/SUM(superficie) FROM provincias;\n",
    "\"\"\")\n",
    "rs = conn.fetchall()\n",
    "print(rs[0][0])"
   ]
  },
  {
   "cell_type": "code",
   "execution_count": 128,
   "metadata": {},
   "outputs": [
    {
     "data": {
      "text/plain": [
       "91.7274169021493"
      ]
     },
     "execution_count": 128,
     "metadata": {},
     "output_type": "execute_result"
    }
   ],
   "source": [
    "df.poblacion.sum()/df.superficie.sum()"
   ]
  },
  {
   "cell_type": "markdown",
   "metadata": {},
   "source": [
    "### Habitantes de la provincia de más poblada"
   ]
  },
  {
   "cell_type": "code",
   "execution_count": 129,
   "metadata": {},
   "outputs": [
    {
     "data": {
      "text/plain": [
       "6466996"
      ]
     },
     "execution_count": 129,
     "metadata": {},
     "output_type": "execute_result"
    }
   ],
   "source": [
    "conn.execute(\"\"\"\n",
    "    SELECT MAX(poblacion) FROM provincias;\n",
    "\"\"\")\n",
    "rs = conn.fetchall()\n",
    "rs[0][0]"
   ]
  },
  {
   "cell_type": "code",
   "execution_count": 130,
   "metadata": {},
   "outputs": [
    {
     "data": {
      "text/plain": [
       "6466996"
      ]
     },
     "execution_count": 130,
     "metadata": {},
     "output_type": "execute_result"
    }
   ],
   "source": [
    "df.poblacion.max()"
   ]
  },
  {
   "cell_type": "markdown",
   "metadata": {},
   "source": [
    "### Población de Cataluña"
   ]
  },
  {
   "cell_type": "code",
   "execution_count": 131,
   "metadata": {},
   "outputs": [
    {
     "name": "stdout",
     "output_type": "stream",
     "text": [
      "7522596\n"
     ]
    }
   ],
   "source": [
    "conn.execute(\"\"\"\n",
    "    SELECT SUM(poblacion) FROM provincias\n",
    "        WHERE autonomia='Cataluña';\n",
    "\"\"\")\n",
    "rs = conn.fetchall()\n",
    "print(rs[0][0])"
   ]
  },
  {
   "cell_type": "code",
   "execution_count": 132,
   "metadata": {},
   "outputs": [
    {
     "data": {
      "text/plain": [
       "7522596"
      ]
     },
     "execution_count": 132,
     "metadata": {},
     "output_type": "execute_result"
    }
   ],
   "source": [
    "df[ df.autonomia=='Cataluña' ].sum().poblacion"
   ]
  },
  {
   "cell_type": "markdown",
   "metadata": {},
   "source": [
    "### Número de provincias"
   ]
  },
  {
   "cell_type": "code",
   "execution_count": 133,
   "metadata": {},
   "outputs": [
    {
     "name": "stdout",
     "output_type": "stream",
     "text": [
      "50\n"
     ]
    }
   ],
   "source": [
    "conn.execute(\"\"\"\n",
    "    SELECT COUNT(*) FROM provincias;\n",
    "\"\"\")\n",
    "rs = conn.fetchall()\n",
    "print(rs[0][0])"
   ]
  },
  {
   "cell_type": "code",
   "execution_count": 134,
   "metadata": {},
   "outputs": [
    {
     "data": {
      "text/plain": [
       "50"
      ]
     },
     "execution_count": 134,
     "metadata": {},
     "output_type": "execute_result"
    }
   ],
   "source": [
    "df.count().provincia"
   ]
  },
  {
   "cell_type": "markdown",
   "metadata": {},
   "source": [
    "### Número de autonomías"
   ]
  },
  {
   "cell_type": "code",
   "execution_count": 135,
   "metadata": {},
   "outputs": [
    {
     "name": "stdout",
     "output_type": "stream",
     "text": [
      "17\n"
     ]
    }
   ],
   "source": [
    "conn.execute(\"\"\"\n",
    "    SELECT COUNT(DISTINCT autonomia) FROM provincias;\n",
    "\"\"\")\n",
    "rs = conn.fetchall()\n",
    "print(rs[0][0])"
   ]
  },
  {
   "cell_type": "code",
   "execution_count": 136,
   "metadata": {},
   "outputs": [
    {
     "data": {
      "text/plain": [
       "17"
      ]
     },
     "execution_count": 136,
     "metadata": {},
     "output_type": "execute_result"
    }
   ],
   "source": [
    "len(df.autonomia.unique())"
   ]
  },
  {
   "cell_type": "markdown",
   "metadata": {},
   "source": [
    "### Número de provincias de cada autonomía"
   ]
  },
  {
   "cell_type": "code",
   "execution_count": 137,
   "metadata": {},
   "outputs": [
    {
     "data": {
      "text/plain": [
       "(('Andalucía', 8),\n",
       " ('Aragón', 3),\n",
       " ('Canarias', 2),\n",
       " ('Cantabria', 1),\n",
       " ('Castilla y León', 9),\n",
       " ('Castilla-La Mancha', 5),\n",
       " ('Cataluña', 4),\n",
       " ('Comunidad de Madrid', 1),\n",
       " ('Comunidad Foral de Navarra', 1),\n",
       " ('Comunidad Valenciana', 3),\n",
       " ('Extremadura', 2),\n",
       " ('Galicia', 4),\n",
       " ('Islas Baleares', 1),\n",
       " ('La Rioja', 1),\n",
       " ('País Vasco', 3),\n",
       " ('Principado de Asturias', 1),\n",
       " ('Región de Murcia', 1))"
      ]
     },
     "execution_count": 137,
     "metadata": {},
     "output_type": "execute_result"
    }
   ],
   "source": [
    "conn.execute(\"\"\"\n",
    "    SELECT autonomia,COUNT(*) FROM provincias\n",
    "        GROUP BY 1;\n",
    "\"\"\")\n",
    "rs = conn.fetchall()\n",
    "rs"
   ]
  },
  {
   "cell_type": "code",
   "execution_count": 138,
   "metadata": {},
   "outputs": [
    {
     "data": {
      "text/plain": [
       "autonomia\n",
       "Andalucía                     8\n",
       "Aragón                        3\n",
       "Canarias                      2\n",
       "Cantabria                     1\n",
       "Castilla y León               9\n",
       "Castilla-La Mancha            5\n",
       "Cataluña                      4\n",
       "Comunidad Foral de Navarra    1\n",
       "Comunidad Valenciana          3\n",
       "Comunidad de Madrid           1\n",
       "Extremadura                   2\n",
       "Galicia                       4\n",
       "Islas Baleares                1\n",
       "La Rioja                      1\n",
       "País Vasco                    3\n",
       "Principado de Asturias        1\n",
       "Región de Murcia              1\n",
       "Name: provincia, dtype: int64"
      ]
     },
     "execution_count": 138,
     "metadata": {},
     "output_type": "execute_result"
    }
   ],
   "source": [
    "df.groupby('autonomia').count().provincia"
   ]
  },
  {
   "cell_type": "markdown",
   "metadata": {},
   "source": [
    "### Población de cada autonomía"
   ]
  },
  {
   "cell_type": "code",
   "execution_count": 139,
   "metadata": {},
   "outputs": [
    {
     "data": {
      "text/plain": [
       "(('Andalucía', Decimal('8388107')),\n",
       " ('Aragón', Decimal('1308563')),\n",
       " ('Canarias', Decimal('2101924')),\n",
       " ('Cantabria', Decimal('582206')),\n",
       " ('Castilla y León', Decimal('2447519')),\n",
       " ('Castilla-La Mancha', Decimal('2041631')),\n",
       " ('Cataluña', Decimal('7522596')),\n",
       " ('Comunidad de Madrid', Decimal('6466996')),\n",
       " ('Comunidad Foral de Navarra', Decimal('640647')),\n",
       " ('Comunidad Valenciana', Decimal('4959968')),\n",
       " ('Extremadura', Decimal('1087778')),\n",
       " ('Galicia', Decimal('2718525')),\n",
       " ('Islas Baleares', Decimal('1107220')),\n",
       " ('La Rioja', Decimal('315794')),\n",
       " ('País Vasco', Decimal('2189534')),\n",
       " ('Principado de Asturias', Decimal('1042608')),\n",
       " ('Región de Murcia', Decimal('1464847')))"
      ]
     },
     "execution_count": 139,
     "metadata": {},
     "output_type": "execute_result"
    }
   ],
   "source": [
    "conn.execute(\"\"\"\n",
    "    SELECT autonomia,SUM(poblacion) s FROM provincias\n",
    "        GROUP BY 1;\n",
    "\"\"\")\n",
    "rs = conn.fetchall()\n",
    "rs"
   ]
  },
  {
   "cell_type": "code",
   "execution_count": 140,
   "metadata": {},
   "outputs": [
    {
     "data": {
      "text/plain": [
       "autonomia\n",
       "Andalucía                     8388107\n",
       "Aragón                        1308563\n",
       "Canarias                      2101924\n",
       "Cantabria                      582206\n",
       "Castilla y León               2447519\n",
       "Castilla-La Mancha            2041631\n",
       "Cataluña                      7522596\n",
       "Comunidad Foral de Navarra     640647\n",
       "Comunidad Valenciana          4959968\n",
       "Comunidad de Madrid           6466996\n",
       "Extremadura                   1087778\n",
       "Galicia                       2718525\n",
       "Islas Baleares                1107220\n",
       "La Rioja                       315794\n",
       "País Vasco                    2189534\n",
       "Principado de Asturias        1042608\n",
       "Región de Murcia              1464847\n",
       "Name: poblacion, dtype: int64"
      ]
     },
     "execution_count": 140,
     "metadata": {},
     "output_type": "execute_result"
    }
   ],
   "source": [
    "df.groupby('autonomia').sum().poblacion"
   ]
  },
  {
   "cell_type": "markdown",
   "metadata": {},
   "source": [
    "### Provincia más despoblada"
   ]
  },
  {
   "cell_type": "code",
   "execution_count": 141,
   "metadata": {},
   "outputs": [
    {
     "name": "stdout",
     "output_type": "stream",
     "text": [
      "Soria\n"
     ]
    }
   ],
   "source": [
    "conn.execute(\"\"\"\n",
    "    SELECT provincia FROM provincias\n",
    "        WHERE poblacion=(\n",
    "            SELECT MIN(poblacion)\n",
    "                FROM provincias\n",
    "        );\n",
    "\"\"\")\n",
    "rs = conn.fetchall()\n",
    "print(rs[0][0])"
   ]
  },
  {
   "cell_type": "code",
   "execution_count": 142,
   "metadata": {},
   "outputs": [
    {
     "data": {
      "text/plain": [
       "41    [Soria]\n",
       "Name: provincia, dtype: object"
      ]
     },
     "execution_count": 142,
     "metadata": {},
     "output_type": "execute_result"
    }
   ],
   "source": [
    "df[ df.poblacion.min()==df.poblacion ].provincia.str.split()"
   ]
  },
  {
   "cell_type": "markdown",
   "metadata": {},
   "source": [
    "### Autonomía más poblada"
   ]
  },
  {
   "cell_type": "code",
   "execution_count": 143,
   "metadata": {},
   "outputs": [
    {
     "data": {
      "text/plain": [
       "'Andalucía'"
      ]
     },
     "execution_count": 143,
     "metadata": {},
     "output_type": "execute_result"
    }
   ],
   "source": [
    "conn.execute(\"\"\"\n",
    "    SELECT autonomia FROM provincias\n",
    "        GROUP BY 1 HAVING SUM(poblacion)=(\n",
    "            SELECT MAX(h) FROM (\n",
    "                SELECT autonomia,SUM(poblacion) h \n",
    "                    FROM provincias GROUP BY 1            \n",
    "            ) c1\n",
    "        );\n",
    "\"\"\")\n",
    "rs = conn.fetchall()\n",
    "rs[0][0]"
   ]
  },
  {
   "cell_type": "code",
   "execution_count": 144,
   "metadata": {},
   "outputs": [
    {
     "data": {
      "text/plain": [
       "'Andalucía'"
      ]
     },
     "execution_count": 144,
     "metadata": {},
     "output_type": "execute_result"
    }
   ],
   "source": [
    "dfa = df.groupby(['autonomia']).sum()\n",
    "aut = dfa[ dfa.poblacion.max()==dfa.poblacion ].index\n",
    "aut.str.split()[0][0]"
   ]
  },
  {
   "cell_type": "markdown",
   "metadata": {},
   "source": [
    "### Vamos a añadir Ceuta y Melilla como ciudades autónomas"
   ]
  },
  {
   "cell_type": "code",
   "execution_count": 145,
   "metadata": {},
   "outputs": [
    {
     "data": {
      "text/plain": [
       "2"
      ]
     },
     "execution_count": 145,
     "metadata": {},
     "output_type": "execute_result"
    }
   ],
   "source": [
    "conn.execute(\"\"\"\n",
    "    INSERT INTO provincias (autonomia,provincia) VALUES\n",
    "        ('Ciudades autónomas','Ceuta'),\n",
    "        ('Ciudades autónomas','Melilla');        \n",
    "\"\"\")\n",
    "# sin commit no se registra definitivamente en la base de datos\n",
    "# aunque sí lo tendremos disponible para consultas en esta sesión"
   ]
  },
  {
   "cell_type": "code",
   "execution_count": 146,
   "metadata": {},
   "outputs": [
    {
     "data": {
      "text/html": [
       "<div>\n",
       "<style scoped>\n",
       "    .dataframe tbody tr th:only-of-type {\n",
       "        vertical-align: middle;\n",
       "    }\n",
       "\n",
       "    .dataframe tbody tr th {\n",
       "        vertical-align: top;\n",
       "    }\n",
       "\n",
       "    .dataframe thead th {\n",
       "        text-align: right;\n",
       "    }\n",
       "</style>\n",
       "<table border=\"1\" class=\"dataframe\">\n",
       "  <thead>\n",
       "    <tr style=\"text-align: right;\">\n",
       "      <th></th>\n",
       "      <th>autonomia</th>\n",
       "      <th>provincia</th>\n",
       "      <th>poblacion</th>\n",
       "      <th>superficie</th>\n",
       "    </tr>\n",
       "  </thead>\n",
       "  <tbody>\n",
       "    <tr>\n",
       "      <th>45</th>\n",
       "      <td>Castilla-La Mancha</td>\n",
       "      <td>Cuenca</td>\n",
       "      <td>201071</td>\n",
       "      <td>17140</td>\n",
       "    </tr>\n",
       "    <tr>\n",
       "      <th>46</th>\n",
       "      <td>Castilla-La Mancha</td>\n",
       "      <td>Guadalajara</td>\n",
       "      <td>252882</td>\n",
       "      <td>12214</td>\n",
       "    </tr>\n",
       "    <tr>\n",
       "      <th>47</th>\n",
       "      <td>Canarias</td>\n",
       "      <td>Santa Cruz de Tenerife</td>\n",
       "      <td>1004124</td>\n",
       "      <td>3381</td>\n",
       "    </tr>\n",
       "    <tr>\n",
       "      <th>48</th>\n",
       "      <td>Canarias</td>\n",
       "      <td>Las Palmas</td>\n",
       "      <td>1097800</td>\n",
       "      <td>4065</td>\n",
       "    </tr>\n",
       "    <tr>\n",
       "      <th>49</th>\n",
       "      <td>Islas Baleares</td>\n",
       "      <td>Baleares</td>\n",
       "      <td>1107220</td>\n",
       "      <td>4991</td>\n",
       "    </tr>\n",
       "  </tbody>\n",
       "</table>\n",
       "</div>"
      ],
      "text/plain": [
       "             autonomia               provincia  poblacion  superficie\n",
       "45  Castilla-La Mancha                  Cuenca     201071       17140\n",
       "46  Castilla-La Mancha             Guadalajara     252882       12214\n",
       "47            Canarias  Santa Cruz de Tenerife    1004124        3381\n",
       "48            Canarias              Las Palmas    1097800        4065\n",
       "49      Islas Baleares                Baleares    1107220        4991"
      ]
     },
     "execution_count": 146,
     "metadata": {},
     "output_type": "execute_result"
    }
   ],
   "source": [
    "#df.loc[50]=['Ciudades autónomas','Ceuta','','']\n",
    "#df.loc[51]=['Ciudades autónomas','Melilla','','']\n",
    "df.tail()"
   ]
  },
  {
   "cell_type": "code",
   "execution_count": 147,
   "metadata": {
    "scrolled": true
   },
   "outputs": [
    {
     "data": {
      "text/html": [
       "<div>\n",
       "<style scoped>\n",
       "    .dataframe tbody tr th:only-of-type {\n",
       "        vertical-align: middle;\n",
       "    }\n",
       "\n",
       "    .dataframe tbody tr th {\n",
       "        vertical-align: top;\n",
       "    }\n",
       "\n",
       "    .dataframe thead th {\n",
       "        text-align: right;\n",
       "    }\n",
       "</style>\n",
       "<table border=\"1\" class=\"dataframe\">\n",
       "  <thead>\n",
       "    <tr style=\"text-align: right;\">\n",
       "      <th></th>\n",
       "      <th>autonomia</th>\n",
       "      <th>provincia</th>\n",
       "      <th>poblacion</th>\n",
       "      <th>superficie</th>\n",
       "    </tr>\n",
       "  </thead>\n",
       "  <tbody>\n",
       "    <tr>\n",
       "      <th>47</th>\n",
       "      <td>Canarias</td>\n",
       "      <td>Santa Cruz de Tenerife</td>\n",
       "      <td>1004124.0</td>\n",
       "      <td>3381.0</td>\n",
       "    </tr>\n",
       "    <tr>\n",
       "      <th>48</th>\n",
       "      <td>Canarias</td>\n",
       "      <td>Las Palmas</td>\n",
       "      <td>1097800.0</td>\n",
       "      <td>4065.0</td>\n",
       "    </tr>\n",
       "    <tr>\n",
       "      <th>49</th>\n",
       "      <td>Islas Baleares</td>\n",
       "      <td>Baleares</td>\n",
       "      <td>1107220.0</td>\n",
       "      <td>4991.0</td>\n",
       "    </tr>\n",
       "    <tr>\n",
       "      <th>50</th>\n",
       "      <td>Ciudades autónomas</td>\n",
       "      <td>Ceuta</td>\n",
       "      <td>NaN</td>\n",
       "      <td>NaN</td>\n",
       "    </tr>\n",
       "    <tr>\n",
       "      <th>51</th>\n",
       "      <td>Ciudades autónomas</td>\n",
       "      <td>Melilla</td>\n",
       "      <td>NaN</td>\n",
       "      <td>NaN</td>\n",
       "    </tr>\n",
       "  </tbody>\n",
       "</table>\n",
       "</div>"
      ],
      "text/plain": [
       "             autonomia               provincia  poblacion  superficie\n",
       "47            Canarias  Santa Cruz de Tenerife  1004124.0      3381.0\n",
       "48            Canarias              Las Palmas  1097800.0      4065.0\n",
       "49      Islas Baleares                Baleares  1107220.0      4991.0\n",
       "50  Ciudades autónomas                   Ceuta        NaN         NaN\n",
       "51  Ciudades autónomas                 Melilla        NaN         NaN"
      ]
     },
     "execution_count": 147,
     "metadata": {},
     "output_type": "execute_result"
    }
   ],
   "source": [
    "df = df.append([\n",
    "    {'autonomia':'Ciudades autónomas','provincia':'Ceuta'},\n",
    "    {'autonomia':'Ciudades autónomas','provincia':'Melilla'}\n",
    "],ignore_index=True)\n",
    "df.tail()"
   ]
  },
  {
   "cell_type": "markdown",
   "metadata": {},
   "source": [
    "### ¿Cuántas provincias hay ahora?"
   ]
  },
  {
   "cell_type": "code",
   "execution_count": 148,
   "metadata": {},
   "outputs": [
    {
     "data": {
      "text/plain": [
       "52"
      ]
     },
     "execution_count": 148,
     "metadata": {},
     "output_type": "execute_result"
    }
   ],
   "source": [
    "conn.execute(\"\"\"\n",
    "    SELECT COUNT(*) FROM provincias;\n",
    "\"\"\")\n",
    "rs = conn.fetchall()\n",
    "rs[0][0]"
   ]
  },
  {
   "cell_type": "code",
   "execution_count": 149,
   "metadata": {},
   "outputs": [
    {
     "data": {
      "text/plain": [
       "52"
      ]
     },
     "execution_count": 149,
     "metadata": {},
     "output_type": "execute_result"
    }
   ],
   "source": [
    "df.count().provincia"
   ]
  },
  {
   "cell_type": "markdown",
   "metadata": {},
   "source": [
    "### Localiza filas con habitantes nulos"
   ]
  },
  {
   "cell_type": "code",
   "execution_count": 150,
   "metadata": {},
   "outputs": [
    {
     "data": {
      "text/plain": [
       "(('Ciudades autónomas', 'Ceuta', None, None),\n",
       " ('Ciudades autónomas', 'Melilla', None, None))"
      ]
     },
     "execution_count": 150,
     "metadata": {},
     "output_type": "execute_result"
    }
   ],
   "source": [
    "conn.execute(\"\"\"\n",
    "    SELECT * FROM provincias\n",
    "        WHERE poblacion IS NULL;\n",
    "\"\"\")\n",
    "rs = conn.fetchall()\n",
    "rs"
   ]
  },
  {
   "cell_type": "code",
   "execution_count": 151,
   "metadata": {},
   "outputs": [
    {
     "data": {
      "text/html": [
       "<div>\n",
       "<style scoped>\n",
       "    .dataframe tbody tr th:only-of-type {\n",
       "        vertical-align: middle;\n",
       "    }\n",
       "\n",
       "    .dataframe tbody tr th {\n",
       "        vertical-align: top;\n",
       "    }\n",
       "\n",
       "    .dataframe thead th {\n",
       "        text-align: right;\n",
       "    }\n",
       "</style>\n",
       "<table border=\"1\" class=\"dataframe\">\n",
       "  <thead>\n",
       "    <tr style=\"text-align: right;\">\n",
       "      <th></th>\n",
       "      <th>autonomia</th>\n",
       "      <th>provincia</th>\n",
       "      <th>poblacion</th>\n",
       "      <th>superficie</th>\n",
       "    </tr>\n",
       "  </thead>\n",
       "  <tbody>\n",
       "    <tr>\n",
       "      <th>50</th>\n",
       "      <td>Ciudades autónomas</td>\n",
       "      <td>Ceuta</td>\n",
       "      <td>NaN</td>\n",
       "      <td>NaN</td>\n",
       "    </tr>\n",
       "    <tr>\n",
       "      <th>51</th>\n",
       "      <td>Ciudades autónomas</td>\n",
       "      <td>Melilla</td>\n",
       "      <td>NaN</td>\n",
       "      <td>NaN</td>\n",
       "    </tr>\n",
       "  </tbody>\n",
       "</table>\n",
       "</div>"
      ],
      "text/plain": [
       "             autonomia provincia  poblacion  superficie\n",
       "50  Ciudades autónomas     Ceuta        NaN         NaN\n",
       "51  Ciudades autónomas   Melilla        NaN         NaN"
      ]
     },
     "execution_count": 151,
     "metadata": {},
     "output_type": "execute_result"
    }
   ],
   "source": [
    "df[ df.poblacion.isna() ]"
   ]
  },
  {
   "cell_type": "markdown",
   "metadata": {},
   "source": [
    "### Ceuta tiene 85209 habitantes, actualiza tanto la tabla como el DataFrame"
   ]
  },
  {
   "cell_type": "code",
   "execution_count": 152,
   "metadata": {},
   "outputs": [
    {
     "data": {
      "text/plain": [
       "1"
      ]
     },
     "execution_count": 152,
     "metadata": {},
     "output_type": "execute_result"
    }
   ],
   "source": [
    "conn.execute(\"\"\"\n",
    "    UPDATE provincias\n",
    "        SET poblacion=85209\n",
    "        WHERE provincia='Ceuta';\n",
    "\"\"\")"
   ]
  },
  {
   "cell_type": "code",
   "execution_count": 153,
   "metadata": {},
   "outputs": [
    {
     "data": {
      "text/plain": [
       "(('Ciudades autónomas', 'Ceuta', 85209, None),)"
      ]
     },
     "execution_count": 153,
     "metadata": {},
     "output_type": "execute_result"
    }
   ],
   "source": [
    "conn.execute(\"\"\"\n",
    "    SELECT * FROM  provincias\n",
    "        WHERE provincia=\"Ceuta\";\n",
    "\"\"\")\n",
    "rs = conn.fetchall()\n",
    "rs"
   ]
  },
  {
   "cell_type": "code",
   "execution_count": 154,
   "metadata": {},
   "outputs": [
    {
     "data": {
      "text/html": [
       "<div>\n",
       "<style scoped>\n",
       "    .dataframe tbody tr th:only-of-type {\n",
       "        vertical-align: middle;\n",
       "    }\n",
       "\n",
       "    .dataframe tbody tr th {\n",
       "        vertical-align: top;\n",
       "    }\n",
       "\n",
       "    .dataframe thead th {\n",
       "        text-align: right;\n",
       "    }\n",
       "</style>\n",
       "<table border=\"1\" class=\"dataframe\">\n",
       "  <thead>\n",
       "    <tr style=\"text-align: right;\">\n",
       "      <th></th>\n",
       "      <th>autonomia</th>\n",
       "      <th>provincia</th>\n",
       "      <th>poblacion</th>\n",
       "      <th>superficie</th>\n",
       "    </tr>\n",
       "  </thead>\n",
       "  <tbody>\n",
       "    <tr>\n",
       "      <th>47</th>\n",
       "      <td>Canarias</td>\n",
       "      <td>Santa Cruz de Tenerife</td>\n",
       "      <td>1004124.0</td>\n",
       "      <td>3381.0</td>\n",
       "    </tr>\n",
       "    <tr>\n",
       "      <th>48</th>\n",
       "      <td>Canarias</td>\n",
       "      <td>Las Palmas</td>\n",
       "      <td>1097800.0</td>\n",
       "      <td>4065.0</td>\n",
       "    </tr>\n",
       "    <tr>\n",
       "      <th>49</th>\n",
       "      <td>Islas Baleares</td>\n",
       "      <td>Baleares</td>\n",
       "      <td>1107220.0</td>\n",
       "      <td>4991.0</td>\n",
       "    </tr>\n",
       "    <tr>\n",
       "      <th>50</th>\n",
       "      <td>Ciudades autónomas</td>\n",
       "      <td>Ceuta</td>\n",
       "      <td>85209.0</td>\n",
       "      <td>NaN</td>\n",
       "    </tr>\n",
       "    <tr>\n",
       "      <th>51</th>\n",
       "      <td>Ciudades autónomas</td>\n",
       "      <td>Melilla</td>\n",
       "      <td>NaN</td>\n",
       "      <td>NaN</td>\n",
       "    </tr>\n",
       "  </tbody>\n",
       "</table>\n",
       "</div>"
      ],
      "text/plain": [
       "             autonomia               provincia  poblacion  superficie\n",
       "47            Canarias  Santa Cruz de Tenerife  1004124.0      3381.0\n",
       "48            Canarias              Las Palmas  1097800.0      4065.0\n",
       "49      Islas Baleares                Baleares  1107220.0      4991.0\n",
       "50  Ciudades autónomas                   Ceuta    85209.0         NaN\n",
       "51  Ciudades autónomas                 Melilla        NaN         NaN"
      ]
     },
     "execution_count": 154,
     "metadata": {},
     "output_type": "execute_result"
    }
   ],
   "source": [
    "df.at[df[ df.provincia=='Ceuta' ].index,'poblacion']=85209\n",
    "df.tail()"
   ]
  },
  {
   "cell_type": "markdown",
   "metadata": {},
   "source": [
    "### Eliminación de los regitros con población nula"
   ]
  },
  {
   "cell_type": "code",
   "execution_count": 155,
   "metadata": {},
   "outputs": [
    {
     "data": {
      "text/plain": [
       "1"
      ]
     },
     "execution_count": 155,
     "metadata": {},
     "output_type": "execute_result"
    }
   ],
   "source": [
    "conn.execute(\"\"\"\n",
    "    DELETE FROM provincias\n",
    "        WHERE poblacion IS NULL;\n",
    "\"\"\")"
   ]
  },
  {
   "cell_type": "code",
   "execution_count": 156,
   "metadata": {},
   "outputs": [
    {
     "data": {
      "text/plain": [
       "(('Galicia', 'La Coruña', 1122799, 7950),\n",
       " ('Galicia', 'Lugo', 336527, 9856),\n",
       " ('Galicia', 'Orense', 314853, 7273),\n",
       " ('Galicia', 'Pontevedra', 944346, 4494),\n",
       " ('Principado de Asturias', 'Asturias', 1042608, 10603),\n",
       " ('Cantabria', 'Cantabria', 582206, 5321),\n",
       " ('País Vasco', 'Vizcaya', 1147576, 2217),\n",
       " ('País Vasco', 'Guipúzcoa', 717832, 1997),\n",
       " ('País Vasco', 'Álava', 324126, 3037),\n",
       " ('La Rioja', 'La Rioja', 315794, 5045),\n",
       " ('Comunidad Foral de Navarra', 'Navarra', 640647, 10391),\n",
       " ('Aragón', 'Huesca', 221079, 15636),\n",
       " ('Aragón', 'Zaragoza', 950507, 17274),\n",
       " ('Aragón', 'Teruel', 136977, 14809),\n",
       " ('Cataluña', 'Barcelona', 5542680, 7733),\n",
       " ('Cataluña', 'Tarragona', 792299, 6302),\n",
       " ('Cataluña', 'Lérida', 434041, 12172),\n",
       " ('Cataluña', 'Gerona', 753576, 5909),\n",
       " ('Comunidad Valenciana', 'Castellón', 579245, 6636),\n",
       " ('Comunidad Valenciana', 'Valencia', 2544264, 10807),\n",
       " ('Comunidad Valenciana', 'Alicante', 1836459, 5817),\n",
       " ('Región de Murcia', 'Murcia', 1464847, 11313),\n",
       " ('Andalucía', 'Huelva', 519596, 10127),\n",
       " ('Andalucía', 'Sevilla', 1939775, 14036),\n",
       " ('Andalucía', 'Córdoba', 791610, 13771),\n",
       " ('Andalucía', 'Jaén', 648250, 13496),\n",
       " ('Andalucía', 'Almería', 704297, 8775),\n",
       " ('Andalucía', 'Granada', 915392, 12646),\n",
       " ('Andalucía', 'Málaga', 1629298, 7306),\n",
       " ('Andalucía', 'Cádiz', 1239889, 7440),\n",
       " ('Extremadura', 'Cáceres', 403665, 19868),\n",
       " ('Extremadura', 'Badajoz', 684113, 21766),\n",
       " ('Comunidad de Madrid', 'Madrid', 6466996, 8027),\n",
       " ('Castilla y León', 'León', 473604, 15580),\n",
       " ('Castilla y León', 'Zamora', 180406, 10561),\n",
       " ('Castilla y León', 'Salamanca', 335985, 12349),\n",
       " ('Castilla y León', 'Palencia', 164644, 8052),\n",
       " ('Castilla y León', 'Burgos', 360995, 14022),\n",
       " ('Castilla y León', 'Valladolid', 523679, 8110),\n",
       " ('Castilla y León', 'Ávila', 162514, 8050),\n",
       " ('Castilla y León', 'Segovia', 155652, 6920),\n",
       " ('Castilla y León', 'Soria', 90040, 10306),\n",
       " ('Castilla-La Mancha', 'Toledo', 688672, 15369),\n",
       " ('Castilla-La Mancha', 'Ciudad Real', 506888, 19813),\n",
       " ('Castilla-La Mancha', 'Albacete', 392118, 14926),\n",
       " ('Castilla-La Mancha', 'Cuenca', 201071, 17140),\n",
       " ('Castilla-La Mancha', 'Guadalajara', 252882, 12214),\n",
       " ('Canarias', 'Santa Cruz de Tenerife', 1004124, 3381),\n",
       " ('Canarias', 'Las Palmas', 1097800, 4065),\n",
       " ('Islas Baleares', 'Baleares', 1107220, 4991),\n",
       " ('Ciudades autónomas', 'Ceuta', 85209, None))"
      ]
     },
     "execution_count": 156,
     "metadata": {},
     "output_type": "execute_result"
    }
   ],
   "source": [
    "conn.execute(\"\"\"\n",
    "    SELECT * FROM  provincias;\n",
    "\"\"\")\n",
    "rs = conn.fetchall()\n",
    "rs"
   ]
  },
  {
   "cell_type": "code",
   "execution_count": 157,
   "metadata": {},
   "outputs": [
    {
     "data": {
      "text/html": [
       "<div>\n",
       "<style scoped>\n",
       "    .dataframe tbody tr th:only-of-type {\n",
       "        vertical-align: middle;\n",
       "    }\n",
       "\n",
       "    .dataframe tbody tr th {\n",
       "        vertical-align: top;\n",
       "    }\n",
       "\n",
       "    .dataframe thead th {\n",
       "        text-align: right;\n",
       "    }\n",
       "</style>\n",
       "<table border=\"1\" class=\"dataframe\">\n",
       "  <thead>\n",
       "    <tr style=\"text-align: right;\">\n",
       "      <th></th>\n",
       "      <th>autonomia</th>\n",
       "      <th>provincia</th>\n",
       "      <th>poblacion</th>\n",
       "      <th>superficie</th>\n",
       "    </tr>\n",
       "  </thead>\n",
       "  <tbody>\n",
       "    <tr>\n",
       "      <th>46</th>\n",
       "      <td>Castilla-La Mancha</td>\n",
       "      <td>Guadalajara</td>\n",
       "      <td>252882.0</td>\n",
       "      <td>12214.0</td>\n",
       "    </tr>\n",
       "    <tr>\n",
       "      <th>47</th>\n",
       "      <td>Canarias</td>\n",
       "      <td>Santa Cruz de Tenerife</td>\n",
       "      <td>1004124.0</td>\n",
       "      <td>3381.0</td>\n",
       "    </tr>\n",
       "    <tr>\n",
       "      <th>48</th>\n",
       "      <td>Canarias</td>\n",
       "      <td>Las Palmas</td>\n",
       "      <td>1097800.0</td>\n",
       "      <td>4065.0</td>\n",
       "    </tr>\n",
       "    <tr>\n",
       "      <th>49</th>\n",
       "      <td>Islas Baleares</td>\n",
       "      <td>Baleares</td>\n",
       "      <td>1107220.0</td>\n",
       "      <td>4991.0</td>\n",
       "    </tr>\n",
       "    <tr>\n",
       "      <th>50</th>\n",
       "      <td>Ciudades autónomas</td>\n",
       "      <td>Ceuta</td>\n",
       "      <td>85209.0</td>\n",
       "      <td>NaN</td>\n",
       "    </tr>\n",
       "  </tbody>\n",
       "</table>\n",
       "</div>"
      ],
      "text/plain": [
       "             autonomia               provincia  poblacion  superficie\n",
       "46  Castilla-La Mancha             Guadalajara   252882.0     12214.0\n",
       "47            Canarias  Santa Cruz de Tenerife  1004124.0      3381.0\n",
       "48            Canarias              Las Palmas  1097800.0      4065.0\n",
       "49      Islas Baleares                Baleares  1107220.0      4991.0\n",
       "50  Ciudades autónomas                   Ceuta    85209.0         NaN"
      ]
     },
     "execution_count": 157,
     "metadata": {},
     "output_type": "execute_result"
    }
   ],
   "source": [
    "df = df.drop(df[df.poblacion.isna()].index)\n",
    "df.tail()"
   ]
  },
  {
   "cell_type": "markdown",
   "metadata": {},
   "source": [
    "### Cierre de la base de datos"
   ]
  },
  {
   "cell_type": "code",
   "execution_count": 158,
   "metadata": {},
   "outputs": [],
   "source": [
    "con.rollback()\n",
    "con.close()"
   ]
  }
 ],
 "metadata": {
  "kernelspec": {
   "display_name": "Python 3",
   "language": "python",
   "name": "python3"
  },
  "language_info": {
   "codemirror_mode": {
    "name": "ipython",
    "version": 3
   },
   "file_extension": ".py",
   "mimetype": "text/x-python",
   "name": "python",
   "nbconvert_exporter": "python",
   "pygments_lexer": "ipython3",
   "version": "3.7.4"
  }
 },
 "nbformat": 4,
 "nbformat_minor": 4
}
