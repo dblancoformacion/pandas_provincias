{
 "cells": [
  {
   "cell_type": "markdown",
   "metadata": {},
   "source": [
    "# Probabilidad condicionada"
   ]
  },
  {
   "cell_type": "markdown",
   "metadata": {},
   "source": [
    "Vamos a simular el experimento de extraer dos cartas seguidas de una misma baraja para comprobar las probabilidades de cada uno de los diferentes sucesos. Empezamos con la primera extracción:"
   ]
  },
  {
   "cell_type": "code",
   "execution_count": 44,
   "metadata": {},
   "outputs": [
    {
     "data": {
      "text/plain": [
       "[0, 39]"
      ]
     },
     "execution_count": 44,
     "metadata": {},
     "output_type": "execute_result"
    }
   ],
   "source": [
    "# 40 cartas\n",
    "# oros, copas, espadas o bastos : [0,1,2,3]\n",
    "# as, dos ... siete, sota, caballo, rey [0,1 ... 6,7,8,9]\n",
    "# Vamos a extraer 400.000 naipes del mismo número de barjas diferentes y contar los resultados obtenidos\n",
    "import random\n",
    "import math\n",
    "baraja = [i for i in range(40)]\n",
    "rs1 = [baraja[math.floor(random.random()*len(baraja))] for i in range(400000)]\n",
    "[min(rs1),max(rs1)]"
   ]
  },
  {
   "cell_type": "markdown",
   "metadata": {},
   "source": [
    "Ahora vamos a medir las diferentes probabilidades de esta primera extracción"
   ]
  },
  {
   "cell_type": "code",
   "execution_count": 45,
   "metadata": {},
   "outputs": [
    {
     "data": {
      "text/plain": [
       "0.1"
      ]
     },
     "execution_count": 45,
     "metadata": {},
     "output_type": "execute_result"
    }
   ],
   "source": [
    "# P(A) donde A es la probabilidad de obtener un as\n",
    "4/40"
   ]
  },
  {
   "cell_type": "code",
   "execution_count": 46,
   "metadata": {},
   "outputs": [
    {
     "data": {
      "text/plain": [
       "0.10002"
      ]
     },
     "execution_count": 46,
     "metadata": {},
     "output_type": "execute_result"
    }
   ],
   "source": [
    "# midamos\n",
    "len([ i for i in range(len(rs1)) if rs1[i] in [0,10,20,30] ])/len(rs1)"
   ]
  },
  {
   "cell_type": "markdown",
   "metadata": {},
   "source": [
    "### Probabilidad de obtener dos ases simultáneamente en dos barajas"
   ]
  },
  {
   "cell_type": "code",
   "execution_count": 47,
   "metadata": {},
   "outputs": [
    {
     "data": {
      "text/plain": [
       "0.01"
      ]
     },
     "execution_count": 47,
     "metadata": {},
     "output_type": "execute_result"
    }
   ],
   "source": [
    "# la probabilidad de sacar dos ases simultáneamente de dos barajas distinstas sería\n",
    "4/40*4/40"
   ]
  },
  {
   "cell_type": "code",
   "execution_count": 48,
   "metadata": {},
   "outputs": [
    {
     "data": {
      "text/plain": [
       "0.0100775"
      ]
     },
     "execution_count": 48,
     "metadata": {},
     "output_type": "execute_result"
    }
   ],
   "source": [
    "# con una única baraja, para extraer la segunda carta, debo eliminar de la baraja la primera carta\n",
    "# como tengo dos barajas separadas, ésto no será necesario\n",
    "rs2 = []\n",
    "for i in range(400000):\n",
    "    b_i = list(baraja)\n",
    "    #b_i.pop(b_i.index(rs1[i])) # ya no tengo que extraer la carta anterior\n",
    "    rs2.append(\n",
    "        b_i[math.floor(random.random()*(len(b_i)))]\n",
    "    )\n",
    "len([i for i in range(len(rs1)) if rs1[i] in [0,10,20,30] and rs2[i] in [0,10,20,30] ])/len(rs1)"
   ]
  },
  {
   "cell_type": "markdown",
   "metadata": {},
   "source": [
    "### Probabilidad de obtener dos ases seguidos en la misma baraja"
   ]
  },
  {
   "cell_type": "markdown",
   "metadata": {},
   "source": [
    "P(AyB)"
   ]
  },
  {
   "cell_type": "code",
   "execution_count": 49,
   "metadata": {},
   "outputs": [
    {
     "data": {
      "text/plain": [
       "0.007692307692307694"
      ]
     },
     "execution_count": 49,
     "metadata": {},
     "output_type": "execute_result"
    }
   ],
   "source": [
    "# A es sacar un as en la 1ª carta\n",
    "# B es sacar un as en la 2ª carta\n",
    "# B|A es sacar un as en la 2ª carta dado que he sacado un as en la 1ª\n",
    "# P(A) = 4/40\n",
    "# P(AyB) \n",
    "4/40*3/39"
   ]
  },
  {
   "cell_type": "code",
   "execution_count": 50,
   "metadata": {},
   "outputs": [
    {
     "data": {
      "text/plain": [
       "0.0075425"
      ]
     },
     "execution_count": 50,
     "metadata": {},
     "output_type": "execute_result"
    }
   ],
   "source": [
    "# para extraer la segunda carta, debo eliminar de la baraja la primera carta\n",
    "rs2 = []\n",
    "for i in range(400000):\n",
    "    b_i = list(baraja)\n",
    "    b_i.pop(b_i.index(rs1[i]))\n",
    "    rs2.append(\n",
    "        b_i[math.floor(random.random()*(len(b_i)))]\n",
    "    )\n",
    "len([i for i in range(len(rs1)) if rs1[i] in [0,10,20,30] and rs2[i] in [0,10,20,30] ])/len(rs1)"
   ]
  },
  {
   "cell_type": "markdown",
   "metadata": {},
   "source": [
    "P(B)"
   ]
  },
  {
   "cell_type": "code",
   "execution_count": 51,
   "metadata": {},
   "outputs": [
    {
     "data": {
      "text/plain": [
       "0.10256410256410256"
      ]
     },
     "execution_count": 51,
     "metadata": {},
     "output_type": "execute_result"
    }
   ],
   "source": [
    "# P(B) donde B es obtener un as en la segunda extracción\n",
    "# P(B) = P(AyB)/P(A|B)\n",
    "4/39"
   ]
  },
  {
   "cell_type": "code",
   "execution_count": 52,
   "metadata": {},
   "outputs": [
    {
     "data": {
      "text/plain": [
       "0.1003075"
      ]
     },
     "execution_count": 52,
     "metadata": {},
     "output_type": "execute_result"
    }
   ],
   "source": [
    "len([i for i in range(len(rs1)) if rs2[i] in [0,10,20,30] ])/len(rs1)"
   ]
  },
  {
   "cell_type": "markdown",
   "metadata": {},
   "source": [
    "P(B|A)"
   ]
  },
  {
   "cell_type": "code",
   "execution_count": 53,
   "metadata": {},
   "outputs": [
    {
     "data": {
      "text/plain": [
       "0.07692307692307693"
      ]
     },
     "execution_count": 53,
     "metadata": {},
     "output_type": "execute_result"
    }
   ],
   "source": [
    "# P(B|A) = P(ByA)/P(A)\n",
    "4/40*3/39 / (4/40)"
   ]
  },
  {
   "cell_type": "code",
   "execution_count": 54,
   "metadata": {},
   "outputs": [
    {
     "data": {
      "text/plain": [
       "0.07540991801639672"
      ]
     },
     "execution_count": 54,
     "metadata": {},
     "output_type": "execute_result"
    }
   ],
   "source": [
    "len([\n",
    "    i for i in range(len(rs1)) if rs1[i] in [0,10,20,30] and rs2[i] in [0,10,20,30]\n",
    "    ])/len([\n",
    "    i for i in range(len(rs1)) if rs1[i] in [0,10,20,30]    \n",
    "    ])"
   ]
  },
  {
   "cell_type": "markdown",
   "metadata": {},
   "source": [
    "P(A|B)"
   ]
  },
  {
   "cell_type": "code",
   "execution_count": 55,
   "metadata": {},
   "outputs": [
    {
     "data": {
      "text/plain": [
       "0.07500000000000001"
      ]
     },
     "execution_count": 55,
     "metadata": {},
     "output_type": "execute_result"
    }
   ],
   "source": [
    "# P(A|B) = P(AyB)/P(B)\n",
    "4/40*3/39 / (4/39)"
   ]
  },
  {
   "cell_type": "code",
   "execution_count": 57,
   "metadata": {},
   "outputs": [
    {
     "data": {
      "text/plain": [
       "0.07519377912917778"
      ]
     },
     "execution_count": 57,
     "metadata": {},
     "output_type": "execute_result"
    }
   ],
   "source": [
    "len([\n",
    "    i for i in range(len(rs1)) if rs1[i] in [0,10,20,30] and rs2[i] in [0,10,20,30]\n",
    "    ])/len([\n",
    "    i for i in range(len(rs1)) if rs2[i] in [0,10,20,30]    \n",
    "    ])"
   ]
  }
 ],
 "metadata": {
  "kernelspec": {
   "display_name": "Python 3",
   "language": "python",
   "name": "python3"
  },
  "language_info": {
   "codemirror_mode": {
    "name": "ipython",
    "version": 3
   },
   "file_extension": ".py",
   "mimetype": "text/x-python",
   "name": "python",
   "nbconvert_exporter": "python",
   "pygments_lexer": "ipython3",
   "version": "3.7.4"
  }
 },
 "nbformat": 4,
 "nbformat_minor": 4
}
