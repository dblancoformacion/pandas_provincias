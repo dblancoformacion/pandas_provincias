{
 "cells": [
  {
   "cell_type": "markdown",
   "metadata": {},
   "source": [
    "# MySQL desde Python y Notebook"
   ]
  },
  {
   "cell_type": "code",
   "execution_count": 4,
   "metadata": {},
   "outputs": [],
   "source": [
    "import pymysql"
   ]
  },
  {
   "cell_type": "code",
   "execution_count": 5,
   "metadata": {},
   "outputs": [],
   "source": [
    "# creamos la conexión entre python y el servidor mysql\n",
    "con = pymysql.connect('localhost','root','','provincias')"
   ]
  },
  {
   "cell_type": "code",
   "execution_count": 6,
   "metadata": {},
   "outputs": [],
   "source": [
    "# creamos un cursor de acceso a queries\n",
    "conn = con.cursor()"
   ]
  },
  {
   "cell_type": "code",
   "execution_count": 7,
   "metadata": {},
   "outputs": [],
   "source": [
    "# enviamos la query al servidor mysql a través del cursor anterior\n",
    "conn.execute(\"\"\"\n",
    "    SELECT * FROM provincias;\n",
    "\"\"\")\n",
    "# capturamos el resultado de la query desde el cursor a la tupla rs\n",
    "rs = conn.fetchall()"
   ]
  },
  {
   "cell_type": "code",
   "execution_count": 8,
   "metadata": {},
   "outputs": [],
   "source": [
    "import pandas as pd"
   ]
  },
  {
   "cell_type": "code",
   "execution_count": 9,
   "metadata": {},
   "outputs": [
    {
     "data": {
      "text/html": [
       "<div>\n",
       "<style scoped>\n",
       "    .dataframe tbody tr th:only-of-type {\n",
       "        vertical-align: middle;\n",
       "    }\n",
       "\n",
       "    .dataframe tbody tr th {\n",
       "        vertical-align: top;\n",
       "    }\n",
       "\n",
       "    .dataframe thead th {\n",
       "        text-align: right;\n",
       "    }\n",
       "</style>\n",
       "<table border=\"1\" class=\"dataframe\">\n",
       "  <thead>\n",
       "    <tr style=\"text-align: right;\">\n",
       "      <th></th>\n",
       "      <th>autonomia</th>\n",
       "      <th>provincia</th>\n",
       "      <th>poblacion</th>\n",
       "      <th>superficie</th>\n",
       "    </tr>\n",
       "  </thead>\n",
       "  <tbody>\n",
       "    <tr>\n",
       "      <th>0</th>\n",
       "      <td>Galicia</td>\n",
       "      <td>La Coruña</td>\n",
       "      <td>1122799</td>\n",
       "      <td>7950</td>\n",
       "    </tr>\n",
       "    <tr>\n",
       "      <th>1</th>\n",
       "      <td>Galicia</td>\n",
       "      <td>Lugo</td>\n",
       "      <td>336527</td>\n",
       "      <td>9856</td>\n",
       "    </tr>\n",
       "    <tr>\n",
       "      <th>2</th>\n",
       "      <td>Galicia</td>\n",
       "      <td>Orense</td>\n",
       "      <td>314853</td>\n",
       "      <td>7273</td>\n",
       "    </tr>\n",
       "    <tr>\n",
       "      <th>3</th>\n",
       "      <td>Galicia</td>\n",
       "      <td>Pontevedra</td>\n",
       "      <td>944346</td>\n",
       "      <td>4494</td>\n",
       "    </tr>\n",
       "    <tr>\n",
       "      <th>4</th>\n",
       "      <td>Principado de Asturias</td>\n",
       "      <td>Asturias</td>\n",
       "      <td>1042608</td>\n",
       "      <td>10603</td>\n",
       "    </tr>\n",
       "  </tbody>\n",
       "</table>\n",
       "</div>"
      ],
      "text/plain": [
       "                autonomia   provincia  poblacion  superficie\n",
       "0                 Galicia   La Coruña    1122799        7950\n",
       "1                 Galicia        Lugo     336527        9856\n",
       "2                 Galicia      Orense     314853        7273\n",
       "3                 Galicia  Pontevedra     944346        4494\n",
       "4  Principado de Asturias    Asturias    1042608       10603"
      ]
     },
     "execution_count": 9,
     "metadata": {},
     "output_type": "execute_result"
    }
   ],
   "source": [
    "df = pd.DataFrame(rs)\n",
    "df.columns=['autonomia','provincia','poblacion','superficie']\n",
    "df.head()"
   ]
  },
  {
   "cell_type": "markdown",
   "metadata": {},
   "source": [
    "### Provincias que contengan la letra B"
   ]
  },
  {
   "cell_type": "code",
   "execution_count": 10,
   "metadata": {},
   "outputs": [
    {
     "name": "stdout",
     "output_type": "stream",
     "text": [
      "(('Cantabria',), ('Barcelona',), ('Córdoba',), ('Badajoz',), ('Burgos',), ('Albacete',), ('Baleares',))\n"
     ]
    }
   ],
   "source": [
    "conn.execute(\"\"\"\n",
    "    SELECT provincia FROM provincias\n",
    "        WHERE provincia LIKE '%b%';\n",
    "\"\"\")\n",
    "rs = conn.fetchall()\n",
    "print(rs)"
   ]
  },
  {
   "cell_type": "code",
   "execution_count": 11,
   "metadata": {
    "scrolled": true
   },
   "outputs": [
    {
     "data": {
      "text/plain": [
       "5     Cantabria\n",
       "14    Barcelona\n",
       "24      Córdoba\n",
       "31      Badajoz\n",
       "37       Burgos\n",
       "44     Albacete\n",
       "49     Baleares\n",
       "Name: provincia, dtype: object"
      ]
     },
     "execution_count": 11,
     "metadata": {},
     "output_type": "execute_result"
    }
   ],
   "source": [
    "df[(\n",
    "    df['provincia'].str.contains('B') | \n",
    "    df['provincia'].str.contains('b')\n",
    ")].provincia"
   ]
  },
  {
   "cell_type": "markdown",
   "metadata": {},
   "source": [
    "### Provincias que empiecen por B"
   ]
  },
  {
   "cell_type": "code",
   "execution_count": 12,
   "metadata": {},
   "outputs": [
    {
     "name": "stdout",
     "output_type": "stream",
     "text": [
      "(('Barcelona',), ('Badajoz',), ('Burgos',), ('Baleares',))\n"
     ]
    }
   ],
   "source": [
    "conn.execute(\"\"\"\n",
    "    SELECT provincia FROM provincias\n",
    "        WHERE provincia LIKE 'b%';\n",
    "\"\"\")\n",
    "rs = conn.fetchall()\n",
    "print(rs)"
   ]
  },
  {
   "cell_type": "code",
   "execution_count": 13,
   "metadata": {},
   "outputs": [
    {
     "data": {
      "text/plain": [
       "14    Barcelona\n",
       "31      Badajoz\n",
       "37       Burgos\n",
       "49     Baleares\n",
       "Name: provincia, dtype: object"
      ]
     },
     "execution_count": 13,
     "metadata": {},
     "output_type": "execute_result"
    }
   ],
   "source": [
    "df[ df.provincia.str[0]=='B' ].provincia"
   ]
  },
  {
   "cell_type": "markdown",
   "metadata": {},
   "source": [
    "### Provincia con los mismos caracteres que su autonomía"
   ]
  },
  {
   "cell_type": "code",
   "execution_count": 14,
   "metadata": {},
   "outputs": [
    {
     "data": {
      "text/plain": [
       "(('Cantabria',), ('La Rioja',), ('Huesca',), ('Teruel',))"
      ]
     },
     "execution_count": 14,
     "metadata": {},
     "output_type": "execute_result"
    }
   ],
   "source": [
    "conn.execute(\"\"\"\n",
    "    SELECT provincia FROM provincias\n",
    "        WHERE CHAR_LENGTH(provincia)=CHAR_LENGTH(autonomia);\n",
    "\"\"\")\n",
    "rs = conn.fetchall()\n",
    "rs"
   ]
  },
  {
   "cell_type": "code",
   "execution_count": 15,
   "metadata": {},
   "outputs": [
    {
     "data": {
      "text/plain": [
       "5     Cantabria\n",
       "9      La Rioja\n",
       "11       Huesca\n",
       "13       Teruel\n",
       "Name: provincia, dtype: object"
      ]
     },
     "execution_count": 15,
     "metadata": {},
     "output_type": "execute_result"
    }
   ],
   "source": [
    "df[ df.provincia.str.len()==df.autonomia.str.len() ].provincia"
   ]
  },
  {
   "cell_type": "markdown",
   "metadata": {},
   "source": [
    "### Lista de autonomías"
   ]
  },
  {
   "cell_type": "code",
   "execution_count": 16,
   "metadata": {},
   "outputs": [
    {
     "data": {
      "text/plain": [
       "(('Galicia',),\n",
       " ('Principado de Asturias',),\n",
       " ('Cantabria',),\n",
       " ('País Vasco',),\n",
       " ('La Rioja',),\n",
       " ('Comunidad Foral de Navarra',),\n",
       " ('Aragón',),\n",
       " ('Cataluña',),\n",
       " ('Comunidad Valenciana',),\n",
       " ('Región de Murcia',),\n",
       " ('Andalucía',),\n",
       " ('Extremadura',),\n",
       " ('Comunidad de Madrid',),\n",
       " ('Castilla y León',),\n",
       " ('Castilla-La Mancha',),\n",
       " ('Canarias',),\n",
       " ('Islas Baleares',))"
      ]
     },
     "execution_count": 16,
     "metadata": {},
     "output_type": "execute_result"
    }
   ],
   "source": [
    "conn.execute(\"\"\"\n",
    "    SELECT DISTINCT autonomia FROM provincias;\n",
    "\"\"\")\n",
    "rs = conn.fetchall()\n",
    "rs"
   ]
  },
  {
   "cell_type": "code",
   "execution_count": 17,
   "metadata": {},
   "outputs": [
    {
     "data": {
      "text/plain": [
       "array(['Galicia', 'Principado de Asturias', 'Cantabria', 'País Vasco',\n",
       "       'La Rioja', 'Comunidad Foral de Navarra', 'Aragón', 'Cataluña',\n",
       "       'Comunidad Valenciana', 'Región de Murcia', 'Andalucía',\n",
       "       'Extremadura', 'Comunidad de Madrid', 'Castilla y León',\n",
       "       'Castilla-La Mancha', 'Canarias', 'Islas Baleares'], dtype=object)"
      ]
     },
     "execution_count": 17,
     "metadata": {},
     "output_type": "execute_result"
    }
   ],
   "source": [
    "df.autonomia.unique()"
   ]
  },
  {
   "cell_type": "markdown",
   "metadata": {},
   "source": [
    "### Provincias de más de un millón de habitantes"
   ]
  },
  {
   "cell_type": "code",
   "execution_count": 34,
   "metadata": {},
   "outputs": [
    {
     "name": "stdout",
     "output_type": "stream",
     "text": [
      "La Coruña\n",
      "Asturias\n",
      "Vizcaya\n",
      "Barcelona\n",
      "Valencia\n",
      "Alicante\n",
      "Murcia\n",
      "Sevilla\n",
      "Málaga\n",
      "Cádiz\n",
      "Madrid\n",
      "Santa Cruz de Tenerife\n",
      "Las Palmas\n",
      "Baleares\n"
     ]
    }
   ],
   "source": [
    "conn.execute(\"\"\"\n",
    "    SELECT provincia FROM provincias\n",
    "        WHERE poblacion>1e6;\n",
    "\"\"\")\n",
    "rs = conn.fetchall()\n",
    "for i in rs: print(i[0])"
   ]
  },
  {
   "cell_type": "code",
   "execution_count": 152,
   "metadata": {},
   "outputs": [
    {
     "data": {
      "text/plain": [
       "0                    [La, Coruña]\n",
       "4                      [Asturias]\n",
       "6                       [Vizcaya]\n",
       "14                    [Barcelona]\n",
       "19                     [Valencia]\n",
       "20                     [Alicante]\n",
       "21                       [Murcia]\n",
       "23                      [Sevilla]\n",
       "28                       [Málaga]\n",
       "29                        [Cádiz]\n",
       "32                       [Madrid]\n",
       "47    [Santa, Cruz, de, Tenerife]\n",
       "48                  [Las, Palmas]\n",
       "49                     [Baleares]\n",
       "Name: provincia, dtype: object"
      ]
     },
     "execution_count": 152,
     "metadata": {},
     "output_type": "execute_result"
    }
   ],
   "source": [
    "df[ df.poblacion>1e6 ].provincia"
   ]
  },
  {
   "cell_type": "markdown",
   "metadata": {},
   "source": [
    "### Población de España"
   ]
  },
  {
   "cell_type": "code",
   "execution_count": 24,
   "metadata": {},
   "outputs": [
    {
     "name": "stdout",
     "output_type": "stream",
     "text": [
      "46386463\n"
     ]
    }
   ],
   "source": [
    "conn.execute(\"\"\"\n",
    "    SELECT SUM(poblacion) FROM provincias;\n",
    "\"\"\")\n",
    "rs = conn.fetchall()\n",
    "print(rs[0][0])"
   ]
  },
  {
   "cell_type": "code",
   "execution_count": 72,
   "metadata": {},
   "outputs": [
    {
     "data": {
      "text/plain": [
       "46386463"
      ]
     },
     "execution_count": 72,
     "metadata": {},
     "output_type": "execute_result"
    }
   ],
   "source": [
    "df.poblacion.sum()"
   ]
  },
  {
   "cell_type": "markdown",
   "metadata": {},
   "source": [
    "### Densidad de población de España"
   ]
  },
  {
   "cell_type": "code",
   "execution_count": 78,
   "metadata": {},
   "outputs": [
    {
     "name": "stdout",
     "output_type": "stream",
     "text": [
      "91.7274\n"
     ]
    }
   ],
   "source": [
    "conn.execute(\"\"\"\n",
    "    SELECT SUM(poblacion)/SUM(superficie) FROM provincias;\n",
    "\"\"\")\n",
    "rs = conn.fetchall()\n",
    "print(rs[0][0])"
   ]
  },
  {
   "cell_type": "code",
   "execution_count": 79,
   "metadata": {},
   "outputs": [
    {
     "data": {
      "text/plain": [
       "91.7274169021493"
      ]
     },
     "execution_count": 79,
     "metadata": {},
     "output_type": "execute_result"
    }
   ],
   "source": [
    "df.poblacion.sum()/df.superficie.sum()"
   ]
  },
  {
   "cell_type": "markdown",
   "metadata": {},
   "source": [
    "### Habitantes de la provincia de más poblada"
   ]
  },
  {
   "cell_type": "code",
   "execution_count": 68,
   "metadata": {},
   "outputs": [
    {
     "data": {
      "text/plain": [
       "6466996"
      ]
     },
     "execution_count": 68,
     "metadata": {},
     "output_type": "execute_result"
    }
   ],
   "source": [
    "conn.execute(\"\"\"\n",
    "    SELECT MAX(poblacion) FROM provincias;\n",
    "\"\"\")\n",
    "rs = conn.fetchall()\n",
    "rs[0][0]"
   ]
  },
  {
   "cell_type": "code",
   "execution_count": 71,
   "metadata": {},
   "outputs": [
    {
     "data": {
      "text/plain": [
       "6466996"
      ]
     },
     "execution_count": 71,
     "metadata": {},
     "output_type": "execute_result"
    }
   ],
   "source": [
    "df.poblacion.max()"
   ]
  },
  {
   "cell_type": "markdown",
   "metadata": {},
   "source": [
    "### Población de Cataluña"
   ]
  },
  {
   "cell_type": "code",
   "execution_count": 59,
   "metadata": {},
   "outputs": [
    {
     "name": "stdout",
     "output_type": "stream",
     "text": [
      "7522596\n"
     ]
    }
   ],
   "source": [
    "conn.execute(\"\"\"\n",
    "    SELECT SUM(poblacion) FROM provincias\n",
    "        WHERE autonomia='Cataluña';\n",
    "\"\"\")\n",
    "rs = conn.fetchall()\n",
    "print(rs[0][0])"
   ]
  },
  {
   "cell_type": "code",
   "execution_count": 61,
   "metadata": {},
   "outputs": [
    {
     "data": {
      "text/plain": [
       "7522596"
      ]
     },
     "execution_count": 61,
     "metadata": {},
     "output_type": "execute_result"
    }
   ],
   "source": [
    "df[ df.autonomia=='Cataluña' ].sum().poblacion"
   ]
  },
  {
   "cell_type": "markdown",
   "metadata": {},
   "source": [
    "### Número de provincias de cada autonomía"
   ]
  },
  {
   "cell_type": "code",
   "execution_count": 80,
   "metadata": {},
   "outputs": [
    {
     "data": {
      "text/plain": [
       "(('Andalucía', 8),\n",
       " ('Aragón', 3),\n",
       " ('Canarias', 2),\n",
       " ('Cantabria', 1),\n",
       " ('Castilla y León', 9),\n",
       " ('Castilla-La Mancha', 5),\n",
       " ('Cataluña', 4),\n",
       " ('Comunidad de Madrid', 1),\n",
       " ('Comunidad Foral de Navarra', 1),\n",
       " ('Comunidad Valenciana', 3),\n",
       " ('Extremadura', 2),\n",
       " ('Galicia', 4),\n",
       " ('Islas Baleares', 1),\n",
       " ('La Rioja', 1),\n",
       " ('País Vasco', 3),\n",
       " ('Principado de Asturias', 1),\n",
       " ('Región de Murcia', 1))"
      ]
     },
     "execution_count": 80,
     "metadata": {},
     "output_type": "execute_result"
    }
   ],
   "source": [
    "conn.execute(\"\"\"\n",
    "    SELECT autonomia,COUNT(*) FROM provincias\n",
    "        GROUP BY 1;\n",
    "\"\"\")\n",
    "rs = conn.fetchall()\n",
    "rs"
   ]
  },
  {
   "cell_type": "code",
   "execution_count": 45,
   "metadata": {},
   "outputs": [
    {
     "data": {
      "text/plain": [
       "autonomia\n",
       "Andalucía                     8\n",
       "Aragón                        3\n",
       "Canarias                      2\n",
       "Cantabria                     1\n",
       "Castilla y León               9\n",
       "Castilla-La Mancha            5\n",
       "Cataluña                      4\n",
       "Comunidad Foral de Navarra    1\n",
       "Comunidad Valenciana          3\n",
       "Comunidad de Madrid           1\n",
       "Extremadura                   2\n",
       "Galicia                       4\n",
       "Islas Baleares                1\n",
       "La Rioja                      1\n",
       "País Vasco                    3\n",
       "Principado de Asturias        1\n",
       "Región de Murcia              1\n",
       "Name: provincia, dtype: int64"
      ]
     },
     "execution_count": 45,
     "metadata": {},
     "output_type": "execute_result"
    }
   ],
   "source": [
    "df.groupby('autonomia').count().provincia"
   ]
  },
  {
   "cell_type": "markdown",
   "metadata": {},
   "source": [
    "### Población de cada autonomía"
   ]
  },
  {
   "cell_type": "code",
   "execution_count": 48,
   "metadata": {},
   "outputs": [
    {
     "data": {
      "text/plain": [
       "(('Andalucía', Decimal('8388107')),\n",
       " ('Aragón', Decimal('1308563')),\n",
       " ('Canarias', Decimal('2101924')),\n",
       " ('Cantabria', Decimal('582206')),\n",
       " ('Castilla y León', Decimal('2447519')),\n",
       " ('Castilla-La Mancha', Decimal('2041631')),\n",
       " ('Cataluña', Decimal('7522596')),\n",
       " ('Comunidad de Madrid', Decimal('6466996')),\n",
       " ('Comunidad Foral de Navarra', Decimal('640647')),\n",
       " ('Comunidad Valenciana', Decimal('4959968')),\n",
       " ('Extremadura', Decimal('1087778')),\n",
       " ('Galicia', Decimal('2718525')),\n",
       " ('Islas Baleares', Decimal('1107220')),\n",
       " ('La Rioja', Decimal('315794')),\n",
       " ('País Vasco', Decimal('2189534')),\n",
       " ('Principado de Asturias', Decimal('1042608')),\n",
       " ('Región de Murcia', Decimal('1464847')))"
      ]
     },
     "execution_count": 48,
     "metadata": {},
     "output_type": "execute_result"
    }
   ],
   "source": [
    "conn.execute(\"\"\"\n",
    "    SELECT autonomia,SUM(poblacion) s FROM provincias\n",
    "        GROUP BY 1;\n",
    "\"\"\")\n",
    "rs = conn.fetchall()\n",
    "rs"
   ]
  },
  {
   "cell_type": "code",
   "execution_count": 81,
   "metadata": {},
   "outputs": [
    {
     "data": {
      "text/plain": [
       "autonomia\n",
       "Andalucía                     8388107\n",
       "Aragón                        1308563\n",
       "Canarias                      2101924\n",
       "Cantabria                      582206\n",
       "Castilla y León               2447519\n",
       "Castilla-La Mancha            2041631\n",
       "Cataluña                      7522596\n",
       "Comunidad Foral de Navarra     640647\n",
       "Comunidad Valenciana          4959968\n",
       "Comunidad de Madrid           6466996\n",
       "Extremadura                   1087778\n",
       "Galicia                       2718525\n",
       "Islas Baleares                1107220\n",
       "La Rioja                       315794\n",
       "País Vasco                    2189534\n",
       "Principado de Asturias        1042608\n",
       "Región de Murcia              1464847\n",
       "Name: poblacion, dtype: int64"
      ]
     },
     "execution_count": 81,
     "metadata": {},
     "output_type": "execute_result"
    }
   ],
   "source": [
    "df.groupby('autonomia').sum().poblacion"
   ]
  },
  {
   "cell_type": "markdown",
   "metadata": {},
   "source": [
    "### Provincia más despoblada"
   ]
  },
  {
   "cell_type": "code",
   "execution_count": 99,
   "metadata": {},
   "outputs": [
    {
     "name": "stdout",
     "output_type": "stream",
     "text": [
      "Soria\n"
     ]
    }
   ],
   "source": [
    "conn.execute(\"\"\"\n",
    "    SELECT provincia FROM provincias\n",
    "        WHERE poblacion=(\n",
    "            SELECT MIN(poblacion)\n",
    "                FROM provincias\n",
    "        );\n",
    "\"\"\")\n",
    "rs = conn.fetchall()\n",
    "print(rs[0][0])"
   ]
  },
  {
   "cell_type": "code",
   "execution_count": 147,
   "metadata": {},
   "outputs": [
    {
     "data": {
      "text/plain": [
       "41    [Soria]\n",
       "Name: provincia, dtype: object"
      ]
     },
     "execution_count": 147,
     "metadata": {},
     "output_type": "execute_result"
    }
   ],
   "source": [
    "df[ df.poblacion.min()==df.poblacion ].provincia.str.split()"
   ]
  },
  {
   "cell_type": "markdown",
   "metadata": {},
   "source": [
    "### Autonomía más poblada"
   ]
  },
  {
   "cell_type": "code",
   "execution_count": 143,
   "metadata": {},
   "outputs": [
    {
     "data": {
      "text/plain": [
       "'Andalucía'"
      ]
     },
     "execution_count": 143,
     "metadata": {},
     "output_type": "execute_result"
    }
   ],
   "source": [
    "conn.execute(\"\"\"\n",
    "    SELECT autonomia FROM provincias\n",
    "        GROUP BY 1 HAVING SUM(poblacion)=(\n",
    "            SELECT MAX(h) FROM (\n",
    "                SELECT autonomia,SUM(poblacion) h \n",
    "                    FROM provincias GROUP BY 1            \n",
    "            ) c1\n",
    "        );\n",
    "\"\"\")\n",
    "rs = conn.fetchall()\n",
    "rs[0][0]"
   ]
  },
  {
   "cell_type": "code",
   "execution_count": 130,
   "metadata": {},
   "outputs": [
    {
     "data": {
      "text/plain": [
       "'Andalucía'"
      ]
     },
     "execution_count": 130,
     "metadata": {},
     "output_type": "execute_result"
    }
   ],
   "source": [
    "dfa = df.groupby(['autonomia']).sum()\n",
    "aut = dfa[ dfa.poblacion.max()==dfa.poblacion ].index\n",
    "aut.str.split()[0][0]"
   ]
  }
 ],
 "metadata": {
  "kernelspec": {
   "display_name": "Python 3",
   "language": "python",
   "name": "python3"
  },
  "language_info": {
   "codemirror_mode": {
    "name": "ipython",
    "version": 3
   },
   "file_extension": ".py",
   "mimetype": "text/x-python",
   "name": "python",
   "nbconvert_exporter": "python",
   "pygments_lexer": "ipython3",
   "version": "3.7.4"
  }
 },
 "nbformat": 4,
 "nbformat_minor": 4
}
