{
 "cells": [
  {
   "cell_type": "markdown",
   "metadata": {},
   "source": [
    "# Probabilidad de sucesos independientes"
   ]
  },
  {
   "cell_type": "code",
   "execution_count": 1,
   "metadata": {},
   "outputs": [
    {
     "data": {
      "text/plain": [
       "[0, 39]"
      ]
     },
     "execution_count": 1,
     "metadata": {},
     "output_type": "execute_result"
    }
   ],
   "source": [
    "# 40 cartas\n",
    "# oros, copas, espadas o bastos : [0,1,2,3]\n",
    "# as, dos ... siete, sota, caballo, rey [0,1 ... 6,7,8,9]\n",
    "# Vamos a extraer 40.000 naipes\n",
    "import random\n",
    "import math\n",
    "baraja = [i for i in range(40)]\n",
    "#rs = [baraja[j] for i in range(40) j=math.floor(random.random()*len(baraja)) ]\n",
    "rs1 = [baraja[math.floor(random.random()*len(baraja))] for i in range(400000)]\n",
    "[min(rs1),max(rs1)]"
   ]
  },
  {
   "cell_type": "code",
   "execution_count": 2,
   "metadata": {},
   "outputs": [
    {
     "data": {
      "text/plain": [
       "[0, 39]"
      ]
     },
     "execution_count": 2,
     "metadata": {},
     "output_type": "execute_result"
    }
   ],
   "source": [
    "# para extraer la segunda carta, debo eliminar de la baraja la primera carta\n",
    "rs2 = []\n",
    "for i in range(400000):\n",
    "    b_i = list(baraja)\n",
    "    b_i.pop(b_i.index(rs1[i]))\n",
    "    rs2.append(\n",
    "        b_i[math.floor(random.random()*(len(b_i)))]\n",
    "    )\n",
    "[min(rs1),max(rs1)]"
   ]
  },
  {
   "cell_type": "markdown",
   "metadata": {},
   "source": [
    "### Probabilidad de obtener dos ases seguidos"
   ]
  },
  {
   "cell_type": "code",
   "execution_count": 3,
   "metadata": {},
   "outputs": [
    {
     "data": {
      "text/plain": [
       "0.007692307692307694"
      ]
     },
     "execution_count": 3,
     "metadata": {},
     "output_type": "execute_result"
    }
   ],
   "source": [
    "4/40*3/39"
   ]
  },
  {
   "cell_type": "code",
   "execution_count": 4,
   "metadata": {},
   "outputs": [
    {
     "data": {
      "text/plain": [
       "0.00794"
      ]
     },
     "execution_count": 4,
     "metadata": {},
     "output_type": "execute_result"
    }
   ],
   "source": [
    "len([i for i in range(len(rs1)) if rs1[i] in [0,10,20,30] and rs2[i] in [0,10,20,30] ])/len(rs1)"
   ]
  },
  {
   "cell_type": "markdown",
   "metadata": {},
   "source": [
    "### Probabilidad de obtener dos simultáneamente en dos barajas"
   ]
  },
  {
   "cell_type": "code",
   "execution_count": 5,
   "metadata": {},
   "outputs": [
    {
     "data": {
      "text/plain": [
       "0.01"
      ]
     },
     "execution_count": 5,
     "metadata": {},
     "output_type": "execute_result"
    }
   ],
   "source": [
    "# la probabilidad de sacar dos ases simultáneamente de dos barajas distinstas sería\n",
    "4/40*4/40"
   ]
  },
  {
   "cell_type": "code",
   "execution_count": 6,
   "metadata": {},
   "outputs": [
    {
     "data": {
      "text/plain": [
       "0.0101"
      ]
     },
     "execution_count": 6,
     "metadata": {},
     "output_type": "execute_result"
    }
   ],
   "source": [
    "# para extraer la segunda carta, debo eliminar de la baraja la primera carta\n",
    "rs2 = []\n",
    "for i in range(400000):\n",
    "    b_i = list(baraja)\n",
    "    #b_i.pop(b_i.index(rs1[i])) # ya no tengo que extraer la carta anterior\n",
    "    rs2.append(\n",
    "        b_i[math.floor(random.random()*(len(b_i)))]\n",
    "    )\n",
    "len([i for i in range(len(rs1)) if rs1[i] in [0,10,20,30] and rs2[i] in [0,10,20,30] ])/len(rs1)"
   ]
  },
  {
   "cell_type": "markdown",
   "metadata": {},
   "source": [
    "### Probabilidad condicionada"
   ]
  },
  {
   "cell_type": "code",
   "execution_count": 8,
   "metadata": {},
   "outputs": [
    {
     "data": {
      "text/plain": [
       "0.007692307692307694"
      ]
     },
     "execution_count": 8,
     "metadata": {},
     "output_type": "execute_result"
    }
   ],
   "source": [
    "# A es sacar un as en la 1ª carta\n",
    "# B es sacar un as en la 2ª carta\n",
    "# B|A es sacar un as en la 2ª carta dado que he sacado un as en la 1ª\n",
    "# P(B|A) = 3/39\n",
    "# P(A) = 4/40\n",
    "# P(ByA)\n",
    "4/40*3/39"
   ]
  },
  {
   "cell_type": "code",
   "execution_count": null,
   "metadata": {},
   "outputs": [],
   "source": [
    "# Probabilidad de sacar un as en la primera carta, dado que obtendré un as en la segunda\n",
    "# P(A|B) = P(AyB)/P(B) = P(B|A) P(A)/P(B)"
   ]
  }
 ],
 "metadata": {
  "kernelspec": {
   "display_name": "Python 3",
   "language": "python",
   "name": "python3"
  },
  "language_info": {
   "codemirror_mode": {
    "name": "ipython",
    "version": 3
   },
   "file_extension": ".py",
   "mimetype": "text/x-python",
   "name": "python",
   "nbconvert_exporter": "python",
   "pygments_lexer": "ipython3",
   "version": "3.7.4"
  }
 },
 "nbformat": 4,
 "nbformat_minor": 4
}
