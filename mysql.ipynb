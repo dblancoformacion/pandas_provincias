{
 "cells": [
  {
   "cell_type": "markdown",
   "metadata": {},
   "source": [
    "# MySQL desde Python y Notebook"
   ]
  },
  {
   "cell_type": "code",
   "execution_count": 240,
   "metadata": {},
   "outputs": [],
   "source": [
    "import pymysql"
   ]
  },
  {
   "cell_type": "code",
   "execution_count": 241,
   "metadata": {},
   "outputs": [],
   "source": [
    "conn.close()"
   ]
  },
  {
   "cell_type": "code",
   "execution_count": 242,
   "metadata": {},
   "outputs": [],
   "source": [
    "# creamos la conexión entre python y el servidor mysql\n",
    "# ¡¡Recuerda arrancar el servidor con xampp!!\n",
    "con = pymysql.connect('localhost','root','','provincias')"
   ]
  },
  {
   "cell_type": "code",
   "execution_count": 243,
   "metadata": {},
   "outputs": [],
   "source": [
    "# creamos un cursor de acceso a queries\n",
    "conn = con.cursor()"
   ]
  },
  {
   "cell_type": "code",
   "execution_count": 244,
   "metadata": {},
   "outputs": [],
   "source": [
    "# enviamos la query al servidor mysql a través del cursor anterior\n",
    "conn.execute(\"\"\"\n",
    "    SELECT * FROM provincias;\n",
    "\"\"\")\n",
    "# capturamos el resultado de la query desde el cursor a la tupla rs\n",
    "rs = conn.fetchall()"
   ]
  },
  {
   "cell_type": "code",
   "execution_count": 245,
   "metadata": {},
   "outputs": [],
   "source": [
    "import pandas as pd"
   ]
  },
  {
   "cell_type": "code",
   "execution_count": 246,
   "metadata": {},
   "outputs": [
    {
     "data": {
      "text/html": [
       "<div>\n",
       "<style scoped>\n",
       "    .dataframe tbody tr th:only-of-type {\n",
       "        vertical-align: middle;\n",
       "    }\n",
       "\n",
       "    .dataframe tbody tr th {\n",
       "        vertical-align: top;\n",
       "    }\n",
       "\n",
       "    .dataframe thead th {\n",
       "        text-align: right;\n",
       "    }\n",
       "</style>\n",
       "<table border=\"1\" class=\"dataframe\">\n",
       "  <thead>\n",
       "    <tr style=\"text-align: right;\">\n",
       "      <th></th>\n",
       "      <th>autonomia</th>\n",
       "      <th>provincia</th>\n",
       "      <th>poblacion</th>\n",
       "      <th>superficie</th>\n",
       "    </tr>\n",
       "  </thead>\n",
       "  <tbody>\n",
       "    <tr>\n",
       "      <th>0</th>\n",
       "      <td>Galicia</td>\n",
       "      <td>La Coruña</td>\n",
       "      <td>1122799</td>\n",
       "      <td>7950</td>\n",
       "    </tr>\n",
       "    <tr>\n",
       "      <th>1</th>\n",
       "      <td>Galicia</td>\n",
       "      <td>Lugo</td>\n",
       "      <td>336527</td>\n",
       "      <td>9856</td>\n",
       "    </tr>\n",
       "    <tr>\n",
       "      <th>2</th>\n",
       "      <td>Galicia</td>\n",
       "      <td>Orense</td>\n",
       "      <td>314853</td>\n",
       "      <td>7273</td>\n",
       "    </tr>\n",
       "    <tr>\n",
       "      <th>3</th>\n",
       "      <td>Galicia</td>\n",
       "      <td>Pontevedra</td>\n",
       "      <td>944346</td>\n",
       "      <td>4494</td>\n",
       "    </tr>\n",
       "    <tr>\n",
       "      <th>4</th>\n",
       "      <td>Principado de Asturias</td>\n",
       "      <td>Asturias</td>\n",
       "      <td>1042608</td>\n",
       "      <td>10603</td>\n",
       "    </tr>\n",
       "  </tbody>\n",
       "</table>\n",
       "</div>"
      ],
      "text/plain": [
       "                autonomia   provincia  poblacion  superficie\n",
       "0                 Galicia   La Coruña    1122799        7950\n",
       "1                 Galicia        Lugo     336527        9856\n",
       "2                 Galicia      Orense     314853        7273\n",
       "3                 Galicia  Pontevedra     944346        4494\n",
       "4  Principado de Asturias    Asturias    1042608       10603"
      ]
     },
     "execution_count": 246,
     "metadata": {},
     "output_type": "execute_result"
    }
   ],
   "source": [
    "df = pd.DataFrame(rs)\n",
    "df.columns=['autonomia','provincia','poblacion','superficie']\n",
    "df.head()"
   ]
  },
  {
   "cell_type": "markdown",
   "metadata": {},
   "source": [
    "### Provincias que contengan la letra B"
   ]
  },
  {
   "cell_type": "code",
   "execution_count": 247,
   "metadata": {},
   "outputs": [
    {
     "name": "stdout",
     "output_type": "stream",
     "text": [
      "(('Cantabria',), ('Barcelona',), ('Córdoba',), ('Badajoz',), ('Burgos',), ('Albacete',), ('Baleares',))\n"
     ]
    }
   ],
   "source": [
    "conn.execute(\"\"\"\n",
    "    SELECT provincia FROM provincias\n",
    "        WHERE provincia LIKE '%b%';\n",
    "\"\"\")\n",
    "rs = conn.fetchall()\n",
    "print(rs)"
   ]
  },
  {
   "cell_type": "code",
   "execution_count": 248,
   "metadata": {
    "scrolled": true
   },
   "outputs": [
    {
     "data": {
      "text/plain": [
       "5     Cantabria\n",
       "14    Barcelona\n",
       "24      Córdoba\n",
       "31      Badajoz\n",
       "37       Burgos\n",
       "44     Albacete\n",
       "49     Baleares\n",
       "Name: provincia, dtype: object"
      ]
     },
     "execution_count": 248,
     "metadata": {},
     "output_type": "execute_result"
    }
   ],
   "source": [
    "df[(\n",
    "    df['provincia'].str.contains('B') | \n",
    "    df['provincia'].str.contains('b')\n",
    ")].provincia"
   ]
  },
  {
   "cell_type": "markdown",
   "metadata": {},
   "source": [
    "### Provincias que empiecen por B"
   ]
  },
  {
   "cell_type": "code",
   "execution_count": 249,
   "metadata": {},
   "outputs": [
    {
     "name": "stdout",
     "output_type": "stream",
     "text": [
      "(('Barcelona',), ('Badajoz',), ('Burgos',), ('Baleares',))\n"
     ]
    }
   ],
   "source": [
    "conn.execute(\"\"\"\n",
    "    SELECT provincia FROM provincias\n",
    "        WHERE provincia LIKE 'b%';\n",
    "\"\"\")\n",
    "rs = conn.fetchall()\n",
    "print(rs)"
   ]
  },
  {
   "cell_type": "code",
   "execution_count": 250,
   "metadata": {},
   "outputs": [
    {
     "data": {
      "text/plain": [
       "14    Barcelona\n",
       "31      Badajoz\n",
       "37       Burgos\n",
       "49     Baleares\n",
       "Name: provincia, dtype: object"
      ]
     },
     "execution_count": 250,
     "metadata": {},
     "output_type": "execute_result"
    }
   ],
   "source": [
    "df[ df.provincia.str[0]=='B' ].provincia"
   ]
  },
  {
   "cell_type": "markdown",
   "metadata": {},
   "source": [
    "### Provincia con los mismos caracteres que su autonomía"
   ]
  },
  {
   "cell_type": "code",
   "execution_count": 251,
   "metadata": {},
   "outputs": [
    {
     "data": {
      "text/plain": [
       "(('Cantabria',), ('La Rioja',), ('Huesca',), ('Teruel',))"
      ]
     },
     "execution_count": 251,
     "metadata": {},
     "output_type": "execute_result"
    }
   ],
   "source": [
    "conn.execute(\"\"\"\n",
    "    SELECT provincia FROM provincias\n",
    "        WHERE CHAR_LENGTH(provincia)=CHAR_LENGTH(autonomia);\n",
    "\"\"\")\n",
    "rs = conn.fetchall()\n",
    "rs"
   ]
  },
  {
   "cell_type": "code",
   "execution_count": 252,
   "metadata": {},
   "outputs": [
    {
     "data": {
      "text/plain": [
       "5     Cantabria\n",
       "9      La Rioja\n",
       "11       Huesca\n",
       "13       Teruel\n",
       "Name: provincia, dtype: object"
      ]
     },
     "execution_count": 252,
     "metadata": {},
     "output_type": "execute_result"
    }
   ],
   "source": [
    "df[ df.provincia.str.len()==df.autonomia.str.len() ].provincia"
   ]
  },
  {
   "cell_type": "markdown",
   "metadata": {},
   "source": [
    "### Lista de autonomías"
   ]
  },
  {
   "cell_type": "code",
   "execution_count": 253,
   "metadata": {},
   "outputs": [
    {
     "data": {
      "text/plain": [
       "(('Galicia',),\n",
       " ('Principado de Asturias',),\n",
       " ('Cantabria',),\n",
       " ('País Vasco',),\n",
       " ('La Rioja',),\n",
       " ('Comunidad Foral de Navarra',),\n",
       " ('Aragón',),\n",
       " ('Cataluña',),\n",
       " ('Comunidad Valenciana',),\n",
       " ('Región de Murcia',),\n",
       " ('Andalucía',),\n",
       " ('Extremadura',),\n",
       " ('Comunidad de Madrid',),\n",
       " ('Castilla y León',),\n",
       " ('Castilla-La Mancha',),\n",
       " ('Canarias',),\n",
       " ('Islas Baleares',))"
      ]
     },
     "execution_count": 253,
     "metadata": {},
     "output_type": "execute_result"
    }
   ],
   "source": [
    "conn.execute(\"\"\"\n",
    "    SELECT DISTINCT autonomia FROM provincias;\n",
    "\"\"\")\n",
    "rs = conn.fetchall()\n",
    "rs"
   ]
  },
  {
   "cell_type": "code",
   "execution_count": 254,
   "metadata": {},
   "outputs": [
    {
     "data": {
      "text/plain": [
       "array(['Galicia', 'Principado de Asturias', 'Cantabria', 'País Vasco',\n",
       "       'La Rioja', 'Comunidad Foral de Navarra', 'Aragón', 'Cataluña',\n",
       "       'Comunidad Valenciana', 'Región de Murcia', 'Andalucía',\n",
       "       'Extremadura', 'Comunidad de Madrid', 'Castilla y León',\n",
       "       'Castilla-La Mancha', 'Canarias', 'Islas Baleares'], dtype=object)"
      ]
     },
     "execution_count": 254,
     "metadata": {},
     "output_type": "execute_result"
    }
   ],
   "source": [
    "df.autonomia.unique()"
   ]
  },
  {
   "cell_type": "markdown",
   "metadata": {},
   "source": [
    "### Provincias de más de un millón de habitantes"
   ]
  },
  {
   "cell_type": "code",
   "execution_count": 255,
   "metadata": {},
   "outputs": [
    {
     "name": "stdout",
     "output_type": "stream",
     "text": [
      "La Coruña\n",
      "Asturias\n",
      "Vizcaya\n",
      "Barcelona\n",
      "Valencia\n",
      "Alicante\n",
      "Murcia\n",
      "Sevilla\n",
      "Málaga\n",
      "Cádiz\n",
      "Madrid\n",
      "Santa Cruz de Tenerife\n",
      "Las Palmas\n",
      "Baleares\n"
     ]
    }
   ],
   "source": [
    "conn.execute(\"\"\"\n",
    "    SELECT provincia FROM provincias\n",
    "        WHERE poblacion>1e6;\n",
    "\"\"\")\n",
    "rs = conn.fetchall()\n",
    "for i in rs: print(i[0])"
   ]
  },
  {
   "cell_type": "code",
   "execution_count": 256,
   "metadata": {},
   "outputs": [
    {
     "data": {
      "text/plain": [
       "0                  La Coruña\n",
       "4                   Asturias\n",
       "6                    Vizcaya\n",
       "14                 Barcelona\n",
       "19                  Valencia\n",
       "20                  Alicante\n",
       "21                    Murcia\n",
       "23                   Sevilla\n",
       "28                    Málaga\n",
       "29                     Cádiz\n",
       "32                    Madrid\n",
       "47    Santa Cruz de Tenerife\n",
       "48                Las Palmas\n",
       "49                  Baleares\n",
       "Name: provincia, dtype: object"
      ]
     },
     "execution_count": 256,
     "metadata": {},
     "output_type": "execute_result"
    }
   ],
   "source": [
    "df[ df.poblacion>1e6 ].provincia"
   ]
  },
  {
   "cell_type": "markdown",
   "metadata": {},
   "source": [
    "### Población de España"
   ]
  },
  {
   "cell_type": "code",
   "execution_count": 257,
   "metadata": {},
   "outputs": [
    {
     "name": "stdout",
     "output_type": "stream",
     "text": [
      "46386463\n"
     ]
    }
   ],
   "source": [
    "conn.execute(\"\"\"\n",
    "    SELECT SUM(poblacion) FROM provincias;\n",
    "\"\"\")\n",
    "rs = conn.fetchall()\n",
    "print(rs[0][0])"
   ]
  },
  {
   "cell_type": "code",
   "execution_count": 258,
   "metadata": {},
   "outputs": [
    {
     "data": {
      "text/plain": [
       "46386463"
      ]
     },
     "execution_count": 258,
     "metadata": {},
     "output_type": "execute_result"
    }
   ],
   "source": [
    "df.poblacion.sum()"
   ]
  },
  {
   "cell_type": "markdown",
   "metadata": {},
   "source": [
    "### Densidad de población de España"
   ]
  },
  {
   "cell_type": "code",
   "execution_count": 259,
   "metadata": {},
   "outputs": [
    {
     "name": "stdout",
     "output_type": "stream",
     "text": [
      "91.7274\n"
     ]
    }
   ],
   "source": [
    "conn.execute(\"\"\"\n",
    "    SELECT SUM(poblacion)/SUM(superficie) FROM provincias;\n",
    "\"\"\")\n",
    "rs = conn.fetchall()\n",
    "print(rs[0][0])"
   ]
  },
  {
   "cell_type": "code",
   "execution_count": 260,
   "metadata": {},
   "outputs": [
    {
     "data": {
      "text/plain": [
       "91.7274169021493"
      ]
     },
     "execution_count": 260,
     "metadata": {},
     "output_type": "execute_result"
    }
   ],
   "source": [
    "df.poblacion.sum()/df.superficie.sum()"
   ]
  },
  {
   "cell_type": "markdown",
   "metadata": {},
   "source": [
    "### Habitantes de la provincia de más poblada"
   ]
  },
  {
   "cell_type": "code",
   "execution_count": 261,
   "metadata": {},
   "outputs": [
    {
     "data": {
      "text/plain": [
       "6466996"
      ]
     },
     "execution_count": 261,
     "metadata": {},
     "output_type": "execute_result"
    }
   ],
   "source": [
    "conn.execute(\"\"\"\n",
    "    SELECT MAX(poblacion) FROM provincias;\n",
    "\"\"\")\n",
    "rs = conn.fetchall()\n",
    "rs[0][0]"
   ]
  },
  {
   "cell_type": "code",
   "execution_count": 262,
   "metadata": {},
   "outputs": [
    {
     "data": {
      "text/plain": [
       "6466996"
      ]
     },
     "execution_count": 262,
     "metadata": {},
     "output_type": "execute_result"
    }
   ],
   "source": [
    "df.poblacion.max()"
   ]
  },
  {
   "cell_type": "markdown",
   "metadata": {},
   "source": [
    "### Población de Cataluña"
   ]
  },
  {
   "cell_type": "code",
   "execution_count": 263,
   "metadata": {},
   "outputs": [
    {
     "name": "stdout",
     "output_type": "stream",
     "text": [
      "7522596\n"
     ]
    }
   ],
   "source": [
    "conn.execute(\"\"\"\n",
    "    SELECT SUM(poblacion) FROM provincias\n",
    "        WHERE autonomia='Cataluña';\n",
    "\"\"\")\n",
    "rs = conn.fetchall()\n",
    "print(rs[0][0])"
   ]
  },
  {
   "cell_type": "code",
   "execution_count": 264,
   "metadata": {},
   "outputs": [
    {
     "data": {
      "text/plain": [
       "7522596"
      ]
     },
     "execution_count": 264,
     "metadata": {},
     "output_type": "execute_result"
    }
   ],
   "source": [
    "df[ df.autonomia=='Cataluña' ].sum().poblacion"
   ]
  },
  {
   "cell_type": "markdown",
   "metadata": {},
   "source": [
    "### Número de provincias de cada autonomía"
   ]
  },
  {
   "cell_type": "code",
   "execution_count": 265,
   "metadata": {},
   "outputs": [
    {
     "data": {
      "text/plain": [
       "(('Andalucía', 8),\n",
       " ('Aragón', 3),\n",
       " ('Canarias', 2),\n",
       " ('Cantabria', 1),\n",
       " ('Castilla y León', 9),\n",
       " ('Castilla-La Mancha', 5),\n",
       " ('Cataluña', 4),\n",
       " ('Comunidad de Madrid', 1),\n",
       " ('Comunidad Foral de Navarra', 1),\n",
       " ('Comunidad Valenciana', 3),\n",
       " ('Extremadura', 2),\n",
       " ('Galicia', 4),\n",
       " ('Islas Baleares', 1),\n",
       " ('La Rioja', 1),\n",
       " ('País Vasco', 3),\n",
       " ('Principado de Asturias', 1),\n",
       " ('Región de Murcia', 1))"
      ]
     },
     "execution_count": 265,
     "metadata": {},
     "output_type": "execute_result"
    }
   ],
   "source": [
    "conn.execute(\"\"\"\n",
    "    SELECT autonomia,COUNT(*) FROM provincias\n",
    "        GROUP BY 1;\n",
    "\"\"\")\n",
    "rs = conn.fetchall()\n",
    "rs"
   ]
  },
  {
   "cell_type": "code",
   "execution_count": 266,
   "metadata": {},
   "outputs": [
    {
     "data": {
      "text/plain": [
       "autonomia\n",
       "Andalucía                     8\n",
       "Aragón                        3\n",
       "Canarias                      2\n",
       "Cantabria                     1\n",
       "Castilla y León               9\n",
       "Castilla-La Mancha            5\n",
       "Cataluña                      4\n",
       "Comunidad Foral de Navarra    1\n",
       "Comunidad Valenciana          3\n",
       "Comunidad de Madrid           1\n",
       "Extremadura                   2\n",
       "Galicia                       4\n",
       "Islas Baleares                1\n",
       "La Rioja                      1\n",
       "País Vasco                    3\n",
       "Principado de Asturias        1\n",
       "Región de Murcia              1\n",
       "Name: provincia, dtype: int64"
      ]
     },
     "execution_count": 266,
     "metadata": {},
     "output_type": "execute_result"
    }
   ],
   "source": [
    "df.groupby('autonomia').count().provincia"
   ]
  },
  {
   "cell_type": "markdown",
   "metadata": {},
   "source": [
    "### Población de cada autonomía"
   ]
  },
  {
   "cell_type": "code",
   "execution_count": 267,
   "metadata": {},
   "outputs": [
    {
     "data": {
      "text/plain": [
       "(('Andalucía', Decimal('8388107')),\n",
       " ('Aragón', Decimal('1308563')),\n",
       " ('Canarias', Decimal('2101924')),\n",
       " ('Cantabria', Decimal('582206')),\n",
       " ('Castilla y León', Decimal('2447519')),\n",
       " ('Castilla-La Mancha', Decimal('2041631')),\n",
       " ('Cataluña', Decimal('7522596')),\n",
       " ('Comunidad de Madrid', Decimal('6466996')),\n",
       " ('Comunidad Foral de Navarra', Decimal('640647')),\n",
       " ('Comunidad Valenciana', Decimal('4959968')),\n",
       " ('Extremadura', Decimal('1087778')),\n",
       " ('Galicia', Decimal('2718525')),\n",
       " ('Islas Baleares', Decimal('1107220')),\n",
       " ('La Rioja', Decimal('315794')),\n",
       " ('País Vasco', Decimal('2189534')),\n",
       " ('Principado de Asturias', Decimal('1042608')),\n",
       " ('Región de Murcia', Decimal('1464847')))"
      ]
     },
     "execution_count": 267,
     "metadata": {},
     "output_type": "execute_result"
    }
   ],
   "source": [
    "conn.execute(\"\"\"\n",
    "    SELECT autonomia,SUM(poblacion) s FROM provincias\n",
    "        GROUP BY 1;\n",
    "\"\"\")\n",
    "rs = conn.fetchall()\n",
    "rs"
   ]
  },
  {
   "cell_type": "code",
   "execution_count": 268,
   "metadata": {},
   "outputs": [
    {
     "data": {
      "text/plain": [
       "autonomia\n",
       "Andalucía                     8388107\n",
       "Aragón                        1308563\n",
       "Canarias                      2101924\n",
       "Cantabria                      582206\n",
       "Castilla y León               2447519\n",
       "Castilla-La Mancha            2041631\n",
       "Cataluña                      7522596\n",
       "Comunidad Foral de Navarra     640647\n",
       "Comunidad Valenciana          4959968\n",
       "Comunidad de Madrid           6466996\n",
       "Extremadura                   1087778\n",
       "Galicia                       2718525\n",
       "Islas Baleares                1107220\n",
       "La Rioja                       315794\n",
       "País Vasco                    2189534\n",
       "Principado de Asturias        1042608\n",
       "Región de Murcia              1464847\n",
       "Name: poblacion, dtype: int64"
      ]
     },
     "execution_count": 268,
     "metadata": {},
     "output_type": "execute_result"
    }
   ],
   "source": [
    "df.groupby('autonomia').sum().poblacion"
   ]
  },
  {
   "cell_type": "markdown",
   "metadata": {},
   "source": [
    "### Provincia más despoblada"
   ]
  },
  {
   "cell_type": "code",
   "execution_count": 269,
   "metadata": {},
   "outputs": [
    {
     "name": "stdout",
     "output_type": "stream",
     "text": [
      "Soria\n"
     ]
    }
   ],
   "source": [
    "conn.execute(\"\"\"\n",
    "    SELECT provincia FROM provincias\n",
    "        WHERE poblacion=(\n",
    "            SELECT MIN(poblacion)\n",
    "                FROM provincias\n",
    "        );\n",
    "\"\"\")\n",
    "rs = conn.fetchall()\n",
    "print(rs[0][0])"
   ]
  },
  {
   "cell_type": "code",
   "execution_count": 270,
   "metadata": {},
   "outputs": [
    {
     "data": {
      "text/plain": [
       "41    [Soria]\n",
       "Name: provincia, dtype: object"
      ]
     },
     "execution_count": 270,
     "metadata": {},
     "output_type": "execute_result"
    }
   ],
   "source": [
    "df[ df.poblacion.min()==df.poblacion ].provincia.str.split()"
   ]
  },
  {
   "cell_type": "markdown",
   "metadata": {},
   "source": [
    "### Autonomía más poblada"
   ]
  },
  {
   "cell_type": "code",
   "execution_count": 271,
   "metadata": {},
   "outputs": [
    {
     "data": {
      "text/plain": [
       "'Andalucía'"
      ]
     },
     "execution_count": 271,
     "metadata": {},
     "output_type": "execute_result"
    }
   ],
   "source": [
    "conn.execute(\"\"\"\n",
    "    SELECT autonomia FROM provincias\n",
    "        GROUP BY 1 HAVING SUM(poblacion)=(\n",
    "            SELECT MAX(h) FROM (\n",
    "                SELECT autonomia,SUM(poblacion) h \n",
    "                    FROM provincias GROUP BY 1            \n",
    "            ) c1\n",
    "        );\n",
    "\"\"\")\n",
    "rs = conn.fetchall()\n",
    "rs[0][0]"
   ]
  },
  {
   "cell_type": "code",
   "execution_count": 272,
   "metadata": {},
   "outputs": [
    {
     "data": {
      "text/plain": [
       "'Andalucía'"
      ]
     },
     "execution_count": 272,
     "metadata": {},
     "output_type": "execute_result"
    }
   ],
   "source": [
    "dfa = df.groupby(['autonomia']).sum()\n",
    "aut = dfa[ dfa.poblacion.max()==dfa.poblacion ].index\n",
    "aut.str.split()[0][0]"
   ]
  },
  {
   "cell_type": "markdown",
   "metadata": {},
   "source": [
    "### Vamos a añadir Ceuta y Melilla como ciudades autónomas"
   ]
  },
  {
   "cell_type": "code",
   "execution_count": 273,
   "metadata": {},
   "outputs": [
    {
     "data": {
      "text/plain": [
       "2"
      ]
     },
     "execution_count": 273,
     "metadata": {},
     "output_type": "execute_result"
    }
   ],
   "source": [
    "conn.execute(\"\"\"\n",
    "    INSERT INTO provincias (autonomia,provincia) VALUES\n",
    "        ('Ciudades autónomas','Ceuta'),\n",
    "        ('Ciudades autónomas','Melilla');        \n",
    "\"\"\")\n",
    "# sin commit no se registra definitivamente en la base de datos\n",
    "# aunque sí lo tendremos disponible para consultas en esta sesión"
   ]
  },
  {
   "cell_type": "code",
   "execution_count": 274,
   "metadata": {},
   "outputs": [
    {
     "data": {
      "text/html": [
       "<div>\n",
       "<style scoped>\n",
       "    .dataframe tbody tr th:only-of-type {\n",
       "        vertical-align: middle;\n",
       "    }\n",
       "\n",
       "    .dataframe tbody tr th {\n",
       "        vertical-align: top;\n",
       "    }\n",
       "\n",
       "    .dataframe thead th {\n",
       "        text-align: right;\n",
       "    }\n",
       "</style>\n",
       "<table border=\"1\" class=\"dataframe\">\n",
       "  <thead>\n",
       "    <tr style=\"text-align: right;\">\n",
       "      <th></th>\n",
       "      <th>autonomia</th>\n",
       "      <th>provincia</th>\n",
       "      <th>poblacion</th>\n",
       "      <th>superficie</th>\n",
       "    </tr>\n",
       "  </thead>\n",
       "  <tbody>\n",
       "    <tr>\n",
       "      <th>45</th>\n",
       "      <td>Castilla-La Mancha</td>\n",
       "      <td>Cuenca</td>\n",
       "      <td>201071</td>\n",
       "      <td>17140</td>\n",
       "    </tr>\n",
       "    <tr>\n",
       "      <th>46</th>\n",
       "      <td>Castilla-La Mancha</td>\n",
       "      <td>Guadalajara</td>\n",
       "      <td>252882</td>\n",
       "      <td>12214</td>\n",
       "    </tr>\n",
       "    <tr>\n",
       "      <th>47</th>\n",
       "      <td>Canarias</td>\n",
       "      <td>Santa Cruz de Tenerife</td>\n",
       "      <td>1004124</td>\n",
       "      <td>3381</td>\n",
       "    </tr>\n",
       "    <tr>\n",
       "      <th>48</th>\n",
       "      <td>Canarias</td>\n",
       "      <td>Las Palmas</td>\n",
       "      <td>1097800</td>\n",
       "      <td>4065</td>\n",
       "    </tr>\n",
       "    <tr>\n",
       "      <th>49</th>\n",
       "      <td>Islas Baleares</td>\n",
       "      <td>Baleares</td>\n",
       "      <td>1107220</td>\n",
       "      <td>4991</td>\n",
       "    </tr>\n",
       "  </tbody>\n",
       "</table>\n",
       "</div>"
      ],
      "text/plain": [
       "             autonomia               provincia  poblacion  superficie\n",
       "45  Castilla-La Mancha                  Cuenca     201071       17140\n",
       "46  Castilla-La Mancha             Guadalajara     252882       12214\n",
       "47            Canarias  Santa Cruz de Tenerife    1004124        3381\n",
       "48            Canarias              Las Palmas    1097800        4065\n",
       "49      Islas Baleares                Baleares    1107220        4991"
      ]
     },
     "execution_count": 274,
     "metadata": {},
     "output_type": "execute_result"
    }
   ],
   "source": [
    "#df.loc[50]=['Ciudades autónomas','Ceuta','','']\n",
    "#df.loc[51]=['Ciudades autónomas','Melilla','','']\n",
    "df.tail()"
   ]
  },
  {
   "cell_type": "code",
   "execution_count": 275,
   "metadata": {
    "scrolled": true
   },
   "outputs": [
    {
     "data": {
      "text/html": [
       "<div>\n",
       "<style scoped>\n",
       "    .dataframe tbody tr th:only-of-type {\n",
       "        vertical-align: middle;\n",
       "    }\n",
       "\n",
       "    .dataframe tbody tr th {\n",
       "        vertical-align: top;\n",
       "    }\n",
       "\n",
       "    .dataframe thead th {\n",
       "        text-align: right;\n",
       "    }\n",
       "</style>\n",
       "<table border=\"1\" class=\"dataframe\">\n",
       "  <thead>\n",
       "    <tr style=\"text-align: right;\">\n",
       "      <th></th>\n",
       "      <th>autonomia</th>\n",
       "      <th>provincia</th>\n",
       "      <th>poblacion</th>\n",
       "      <th>superficie</th>\n",
       "    </tr>\n",
       "  </thead>\n",
       "  <tbody>\n",
       "    <tr>\n",
       "      <th>47</th>\n",
       "      <td>Canarias</td>\n",
       "      <td>Santa Cruz de Tenerife</td>\n",
       "      <td>1004124.0</td>\n",
       "      <td>3381.0</td>\n",
       "    </tr>\n",
       "    <tr>\n",
       "      <th>48</th>\n",
       "      <td>Canarias</td>\n",
       "      <td>Las Palmas</td>\n",
       "      <td>1097800.0</td>\n",
       "      <td>4065.0</td>\n",
       "    </tr>\n",
       "    <tr>\n",
       "      <th>49</th>\n",
       "      <td>Islas Baleares</td>\n",
       "      <td>Baleares</td>\n",
       "      <td>1107220.0</td>\n",
       "      <td>4991.0</td>\n",
       "    </tr>\n",
       "    <tr>\n",
       "      <th>50</th>\n",
       "      <td>Ciudades autónomas</td>\n",
       "      <td>Ceuta</td>\n",
       "      <td>NaN</td>\n",
       "      <td>NaN</td>\n",
       "    </tr>\n",
       "    <tr>\n",
       "      <th>51</th>\n",
       "      <td>Ciudades autónomas</td>\n",
       "      <td>Melilla</td>\n",
       "      <td>NaN</td>\n",
       "      <td>NaN</td>\n",
       "    </tr>\n",
       "  </tbody>\n",
       "</table>\n",
       "</div>"
      ],
      "text/plain": [
       "             autonomia               provincia  poblacion  superficie\n",
       "47            Canarias  Santa Cruz de Tenerife  1004124.0      3381.0\n",
       "48            Canarias              Las Palmas  1097800.0      4065.0\n",
       "49      Islas Baleares                Baleares  1107220.0      4991.0\n",
       "50  Ciudades autónomas                   Ceuta        NaN         NaN\n",
       "51  Ciudades autónomas                 Melilla        NaN         NaN"
      ]
     },
     "execution_count": 275,
     "metadata": {},
     "output_type": "execute_result"
    }
   ],
   "source": [
    "df = df.append([\n",
    "    {'autonomia':'Ciudades autónomas','provincia':'Ceuta'},\n",
    "    {'autonomia':'Ciudades autónomas','provincia':'Melilla'}\n",
    "],ignore_index=True)\n",
    "df.tail()"
   ]
  },
  {
   "cell_type": "markdown",
   "metadata": {},
   "source": [
    "### ¿Cuántas provincias hay ahora?"
   ]
  },
  {
   "cell_type": "code",
   "execution_count": 276,
   "metadata": {},
   "outputs": [
    {
     "data": {
      "text/plain": [
       "52"
      ]
     },
     "execution_count": 276,
     "metadata": {},
     "output_type": "execute_result"
    }
   ],
   "source": [
    "conn.execute(\"\"\"\n",
    "    SELECT COUNT(*) FROM provincias;\n",
    "\"\"\")\n",
    "rs = conn.fetchall()\n",
    "rs[0][0]"
   ]
  },
  {
   "cell_type": "code",
   "execution_count": 277,
   "metadata": {},
   "outputs": [
    {
     "data": {
      "text/plain": [
       "52"
      ]
     },
     "execution_count": 277,
     "metadata": {},
     "output_type": "execute_result"
    }
   ],
   "source": [
    "df.count().provincia"
   ]
  },
  {
   "cell_type": "markdown",
   "metadata": {},
   "source": [
    "### Localiza filas con habitantes nulos"
   ]
  },
  {
   "cell_type": "code",
   "execution_count": 278,
   "metadata": {},
   "outputs": [
    {
     "data": {
      "text/plain": [
       "(('Ciudades autónomas', 'Ceuta', None, None),\n",
       " ('Ciudades autónomas', 'Melilla', None, None))"
      ]
     },
     "execution_count": 278,
     "metadata": {},
     "output_type": "execute_result"
    }
   ],
   "source": [
    "conn.execute(\"\"\"\n",
    "    SELECT * FROM provincias\n",
    "        WHERE poblacion IS NULL;\n",
    "\"\"\")\n",
    "rs = conn.fetchall()\n",
    "rs"
   ]
  },
  {
   "cell_type": "code",
   "execution_count": 279,
   "metadata": {},
   "outputs": [
    {
     "data": {
      "text/html": [
       "<div>\n",
       "<style scoped>\n",
       "    .dataframe tbody tr th:only-of-type {\n",
       "        vertical-align: middle;\n",
       "    }\n",
       "\n",
       "    .dataframe tbody tr th {\n",
       "        vertical-align: top;\n",
       "    }\n",
       "\n",
       "    .dataframe thead th {\n",
       "        text-align: right;\n",
       "    }\n",
       "</style>\n",
       "<table border=\"1\" class=\"dataframe\">\n",
       "  <thead>\n",
       "    <tr style=\"text-align: right;\">\n",
       "      <th></th>\n",
       "      <th>autonomia</th>\n",
       "      <th>provincia</th>\n",
       "      <th>poblacion</th>\n",
       "      <th>superficie</th>\n",
       "    </tr>\n",
       "  </thead>\n",
       "  <tbody>\n",
       "    <tr>\n",
       "      <th>50</th>\n",
       "      <td>Ciudades autónomas</td>\n",
       "      <td>Ceuta</td>\n",
       "      <td>NaN</td>\n",
       "      <td>NaN</td>\n",
       "    </tr>\n",
       "    <tr>\n",
       "      <th>51</th>\n",
       "      <td>Ciudades autónomas</td>\n",
       "      <td>Melilla</td>\n",
       "      <td>NaN</td>\n",
       "      <td>NaN</td>\n",
       "    </tr>\n",
       "  </tbody>\n",
       "</table>\n",
       "</div>"
      ],
      "text/plain": [
       "             autonomia provincia  poblacion  superficie\n",
       "50  Ciudades autónomas     Ceuta        NaN         NaN\n",
       "51  Ciudades autónomas   Melilla        NaN         NaN"
      ]
     },
     "execution_count": 279,
     "metadata": {},
     "output_type": "execute_result"
    }
   ],
   "source": [
    "df[ df.poblacion.isna() ]"
   ]
  },
  {
   "cell_type": "markdown",
   "metadata": {},
   "source": [
    "### Ceuta tiene 85209 habitantes, actualiza tanto la tabla como el DataFrame"
   ]
  },
  {
   "cell_type": "code",
   "execution_count": 280,
   "metadata": {},
   "outputs": [
    {
     "ename": "InternalError",
     "evalue": "(1205, 'Lock wait timeout exceeded; try restarting transaction')",
     "output_type": "error",
     "traceback": [
      "\u001b[1;31m---------------------------------------------------------------------------\u001b[0m",
      "\u001b[1;31mInternalError\u001b[0m                             Traceback (most recent call last)",
      "\u001b[1;32m<ipython-input-280-782f2d2be5f6>\u001b[0m in \u001b[0;36m<module>\u001b[1;34m\u001b[0m\n\u001b[0;32m      3\u001b[0m         \u001b[0mSET\u001b[0m \u001b[0mpoblacion\u001b[0m\u001b[1;33m=\u001b[0m\u001b[1;36m85209\u001b[0m\u001b[1;33m\u001b[0m\u001b[1;33m\u001b[0m\u001b[0m\n\u001b[0;32m      4\u001b[0m         \u001b[0mWHERE\u001b[0m \u001b[0mprovincia\u001b[0m\u001b[1;33m=\u001b[0m\u001b[1;34m'Ceuta'\u001b[0m\u001b[1;33m;\u001b[0m\u001b[1;33m\u001b[0m\u001b[1;33m\u001b[0m\u001b[0m\n\u001b[1;32m----> 5\u001b[1;33m \"\"\")\n\u001b[0m",
      "\u001b[1;32mc:\\users\\david\\appdata\\local\\programs\\python\\python37-32\\lib\\site-packages\\pymysql\\cursors.py\u001b[0m in \u001b[0;36mexecute\u001b[1;34m(self, query, args)\u001b[0m\n\u001b[0;32m    168\u001b[0m         \u001b[0mquery\u001b[0m \u001b[1;33m=\u001b[0m \u001b[0mself\u001b[0m\u001b[1;33m.\u001b[0m\u001b[0mmogrify\u001b[0m\u001b[1;33m(\u001b[0m\u001b[0mquery\u001b[0m\u001b[1;33m,\u001b[0m \u001b[0margs\u001b[0m\u001b[1;33m)\u001b[0m\u001b[1;33m\u001b[0m\u001b[1;33m\u001b[0m\u001b[0m\n\u001b[0;32m    169\u001b[0m \u001b[1;33m\u001b[0m\u001b[0m\n\u001b[1;32m--> 170\u001b[1;33m         \u001b[0mresult\u001b[0m \u001b[1;33m=\u001b[0m \u001b[0mself\u001b[0m\u001b[1;33m.\u001b[0m\u001b[0m_query\u001b[0m\u001b[1;33m(\u001b[0m\u001b[0mquery\u001b[0m\u001b[1;33m)\u001b[0m\u001b[1;33m\u001b[0m\u001b[1;33m\u001b[0m\u001b[0m\n\u001b[0m\u001b[0;32m    171\u001b[0m         \u001b[0mself\u001b[0m\u001b[1;33m.\u001b[0m\u001b[0m_executed\u001b[0m \u001b[1;33m=\u001b[0m \u001b[0mquery\u001b[0m\u001b[1;33m\u001b[0m\u001b[1;33m\u001b[0m\u001b[0m\n\u001b[0;32m    172\u001b[0m         \u001b[1;32mreturn\u001b[0m \u001b[0mresult\u001b[0m\u001b[1;33m\u001b[0m\u001b[1;33m\u001b[0m\u001b[0m\n",
      "\u001b[1;32mc:\\users\\david\\appdata\\local\\programs\\python\\python37-32\\lib\\site-packages\\pymysql\\cursors.py\u001b[0m in \u001b[0;36m_query\u001b[1;34m(self, q)\u001b[0m\n\u001b[0;32m    326\u001b[0m         \u001b[0mself\u001b[0m\u001b[1;33m.\u001b[0m\u001b[0m_last_executed\u001b[0m \u001b[1;33m=\u001b[0m \u001b[0mq\u001b[0m\u001b[1;33m\u001b[0m\u001b[1;33m\u001b[0m\u001b[0m\n\u001b[0;32m    327\u001b[0m         \u001b[0mself\u001b[0m\u001b[1;33m.\u001b[0m\u001b[0m_clear_result\u001b[0m\u001b[1;33m(\u001b[0m\u001b[1;33m)\u001b[0m\u001b[1;33m\u001b[0m\u001b[1;33m\u001b[0m\u001b[0m\n\u001b[1;32m--> 328\u001b[1;33m         \u001b[0mconn\u001b[0m\u001b[1;33m.\u001b[0m\u001b[0mquery\u001b[0m\u001b[1;33m(\u001b[0m\u001b[0mq\u001b[0m\u001b[1;33m)\u001b[0m\u001b[1;33m\u001b[0m\u001b[1;33m\u001b[0m\u001b[0m\n\u001b[0m\u001b[0;32m    329\u001b[0m         \u001b[0mself\u001b[0m\u001b[1;33m.\u001b[0m\u001b[0m_do_get_result\u001b[0m\u001b[1;33m(\u001b[0m\u001b[1;33m)\u001b[0m\u001b[1;33m\u001b[0m\u001b[1;33m\u001b[0m\u001b[0m\n\u001b[0;32m    330\u001b[0m         \u001b[1;32mreturn\u001b[0m \u001b[0mself\u001b[0m\u001b[1;33m.\u001b[0m\u001b[0mrowcount\u001b[0m\u001b[1;33m\u001b[0m\u001b[1;33m\u001b[0m\u001b[0m\n",
      "\u001b[1;32mc:\\users\\david\\appdata\\local\\programs\\python\\python37-32\\lib\\site-packages\\pymysql\\connections.py\u001b[0m in \u001b[0;36mquery\u001b[1;34m(self, sql, unbuffered)\u001b[0m\n\u001b[0;32m    515\u001b[0m                 \u001b[0msql\u001b[0m \u001b[1;33m=\u001b[0m \u001b[0msql\u001b[0m\u001b[1;33m.\u001b[0m\u001b[0mencode\u001b[0m\u001b[1;33m(\u001b[0m\u001b[0mself\u001b[0m\u001b[1;33m.\u001b[0m\u001b[0mencoding\u001b[0m\u001b[1;33m,\u001b[0m \u001b[1;34m'surrogateescape'\u001b[0m\u001b[1;33m)\u001b[0m\u001b[1;33m\u001b[0m\u001b[1;33m\u001b[0m\u001b[0m\n\u001b[0;32m    516\u001b[0m         \u001b[0mself\u001b[0m\u001b[1;33m.\u001b[0m\u001b[0m_execute_command\u001b[0m\u001b[1;33m(\u001b[0m\u001b[0mCOMMAND\u001b[0m\u001b[1;33m.\u001b[0m\u001b[0mCOM_QUERY\u001b[0m\u001b[1;33m,\u001b[0m \u001b[0msql\u001b[0m\u001b[1;33m)\u001b[0m\u001b[1;33m\u001b[0m\u001b[1;33m\u001b[0m\u001b[0m\n\u001b[1;32m--> 517\u001b[1;33m         \u001b[0mself\u001b[0m\u001b[1;33m.\u001b[0m\u001b[0m_affected_rows\u001b[0m \u001b[1;33m=\u001b[0m \u001b[0mself\u001b[0m\u001b[1;33m.\u001b[0m\u001b[0m_read_query_result\u001b[0m\u001b[1;33m(\u001b[0m\u001b[0munbuffered\u001b[0m\u001b[1;33m=\u001b[0m\u001b[0munbuffered\u001b[0m\u001b[1;33m)\u001b[0m\u001b[1;33m\u001b[0m\u001b[1;33m\u001b[0m\u001b[0m\n\u001b[0m\u001b[0;32m    518\u001b[0m         \u001b[1;32mreturn\u001b[0m \u001b[0mself\u001b[0m\u001b[1;33m.\u001b[0m\u001b[0m_affected_rows\u001b[0m\u001b[1;33m\u001b[0m\u001b[1;33m\u001b[0m\u001b[0m\n\u001b[0;32m    519\u001b[0m \u001b[1;33m\u001b[0m\u001b[0m\n",
      "\u001b[1;32mc:\\users\\david\\appdata\\local\\programs\\python\\python37-32\\lib\\site-packages\\pymysql\\connections.py\u001b[0m in \u001b[0;36m_read_query_result\u001b[1;34m(self, unbuffered)\u001b[0m\n\u001b[0;32m    730\u001b[0m         \u001b[1;32melse\u001b[0m\u001b[1;33m:\u001b[0m\u001b[1;33m\u001b[0m\u001b[1;33m\u001b[0m\u001b[0m\n\u001b[0;32m    731\u001b[0m             \u001b[0mresult\u001b[0m \u001b[1;33m=\u001b[0m \u001b[0mMySQLResult\u001b[0m\u001b[1;33m(\u001b[0m\u001b[0mself\u001b[0m\u001b[1;33m)\u001b[0m\u001b[1;33m\u001b[0m\u001b[1;33m\u001b[0m\u001b[0m\n\u001b[1;32m--> 732\u001b[1;33m             \u001b[0mresult\u001b[0m\u001b[1;33m.\u001b[0m\u001b[0mread\u001b[0m\u001b[1;33m(\u001b[0m\u001b[1;33m)\u001b[0m\u001b[1;33m\u001b[0m\u001b[1;33m\u001b[0m\u001b[0m\n\u001b[0m\u001b[0;32m    733\u001b[0m         \u001b[0mself\u001b[0m\u001b[1;33m.\u001b[0m\u001b[0m_result\u001b[0m \u001b[1;33m=\u001b[0m \u001b[0mresult\u001b[0m\u001b[1;33m\u001b[0m\u001b[1;33m\u001b[0m\u001b[0m\n\u001b[0;32m    734\u001b[0m         \u001b[1;32mif\u001b[0m \u001b[0mresult\u001b[0m\u001b[1;33m.\u001b[0m\u001b[0mserver_status\u001b[0m \u001b[1;32mis\u001b[0m \u001b[1;32mnot\u001b[0m \u001b[1;32mNone\u001b[0m\u001b[1;33m:\u001b[0m\u001b[1;33m\u001b[0m\u001b[1;33m\u001b[0m\u001b[0m\n",
      "\u001b[1;32mc:\\users\\david\\appdata\\local\\programs\\python\\python37-32\\lib\\site-packages\\pymysql\\connections.py\u001b[0m in \u001b[0;36mread\u001b[1;34m(self)\u001b[0m\n\u001b[0;32m   1073\u001b[0m     \u001b[1;32mdef\u001b[0m \u001b[0mread\u001b[0m\u001b[1;33m(\u001b[0m\u001b[0mself\u001b[0m\u001b[1;33m)\u001b[0m\u001b[1;33m:\u001b[0m\u001b[1;33m\u001b[0m\u001b[1;33m\u001b[0m\u001b[0m\n\u001b[0;32m   1074\u001b[0m         \u001b[1;32mtry\u001b[0m\u001b[1;33m:\u001b[0m\u001b[1;33m\u001b[0m\u001b[1;33m\u001b[0m\u001b[0m\n\u001b[1;32m-> 1075\u001b[1;33m             \u001b[0mfirst_packet\u001b[0m \u001b[1;33m=\u001b[0m \u001b[0mself\u001b[0m\u001b[1;33m.\u001b[0m\u001b[0mconnection\u001b[0m\u001b[1;33m.\u001b[0m\u001b[0m_read_packet\u001b[0m\u001b[1;33m(\u001b[0m\u001b[1;33m)\u001b[0m\u001b[1;33m\u001b[0m\u001b[1;33m\u001b[0m\u001b[0m\n\u001b[0m\u001b[0;32m   1076\u001b[0m \u001b[1;33m\u001b[0m\u001b[0m\n\u001b[0;32m   1077\u001b[0m             \u001b[1;32mif\u001b[0m \u001b[0mfirst_packet\u001b[0m\u001b[1;33m.\u001b[0m\u001b[0mis_ok_packet\u001b[0m\u001b[1;33m(\u001b[0m\u001b[1;33m)\u001b[0m\u001b[1;33m:\u001b[0m\u001b[1;33m\u001b[0m\u001b[1;33m\u001b[0m\u001b[0m\n",
      "\u001b[1;32mc:\\users\\david\\appdata\\local\\programs\\python\\python37-32\\lib\\site-packages\\pymysql\\connections.py\u001b[0m in \u001b[0;36m_read_packet\u001b[1;34m(self, packet_type)\u001b[0m\n\u001b[0;32m    682\u001b[0m \u001b[1;33m\u001b[0m\u001b[0m\n\u001b[0;32m    683\u001b[0m         \u001b[0mpacket\u001b[0m \u001b[1;33m=\u001b[0m \u001b[0mpacket_type\u001b[0m\u001b[1;33m(\u001b[0m\u001b[0mbuff\u001b[0m\u001b[1;33m,\u001b[0m \u001b[0mself\u001b[0m\u001b[1;33m.\u001b[0m\u001b[0mencoding\u001b[0m\u001b[1;33m)\u001b[0m\u001b[1;33m\u001b[0m\u001b[1;33m\u001b[0m\u001b[0m\n\u001b[1;32m--> 684\u001b[1;33m         \u001b[0mpacket\u001b[0m\u001b[1;33m.\u001b[0m\u001b[0mcheck_error\u001b[0m\u001b[1;33m(\u001b[0m\u001b[1;33m)\u001b[0m\u001b[1;33m\u001b[0m\u001b[1;33m\u001b[0m\u001b[0m\n\u001b[0m\u001b[0;32m    685\u001b[0m         \u001b[1;32mreturn\u001b[0m \u001b[0mpacket\u001b[0m\u001b[1;33m\u001b[0m\u001b[1;33m\u001b[0m\u001b[0m\n\u001b[0;32m    686\u001b[0m \u001b[1;33m\u001b[0m\u001b[0m\n",
      "\u001b[1;32mc:\\users\\david\\appdata\\local\\programs\\python\\python37-32\\lib\\site-packages\\pymysql\\protocol.py\u001b[0m in \u001b[0;36mcheck_error\u001b[1;34m(self)\u001b[0m\n\u001b[0;32m    218\u001b[0m             \u001b[0merrno\u001b[0m \u001b[1;33m=\u001b[0m \u001b[0mself\u001b[0m\u001b[1;33m.\u001b[0m\u001b[0mread_uint16\u001b[0m\u001b[1;33m(\u001b[0m\u001b[1;33m)\u001b[0m\u001b[1;33m\u001b[0m\u001b[1;33m\u001b[0m\u001b[0m\n\u001b[0;32m    219\u001b[0m             \u001b[1;32mif\u001b[0m \u001b[0mDEBUG\u001b[0m\u001b[1;33m:\u001b[0m \u001b[0mprint\u001b[0m\u001b[1;33m(\u001b[0m\u001b[1;34m\"errno =\"\u001b[0m\u001b[1;33m,\u001b[0m \u001b[0merrno\u001b[0m\u001b[1;33m)\u001b[0m\u001b[1;33m\u001b[0m\u001b[1;33m\u001b[0m\u001b[0m\n\u001b[1;32m--> 220\u001b[1;33m             \u001b[0merr\u001b[0m\u001b[1;33m.\u001b[0m\u001b[0mraise_mysql_exception\u001b[0m\u001b[1;33m(\u001b[0m\u001b[0mself\u001b[0m\u001b[1;33m.\u001b[0m\u001b[0m_data\u001b[0m\u001b[1;33m)\u001b[0m\u001b[1;33m\u001b[0m\u001b[1;33m\u001b[0m\u001b[0m\n\u001b[0m\u001b[0;32m    221\u001b[0m \u001b[1;33m\u001b[0m\u001b[0m\n\u001b[0;32m    222\u001b[0m     \u001b[1;32mdef\u001b[0m \u001b[0mdump\u001b[0m\u001b[1;33m(\u001b[0m\u001b[0mself\u001b[0m\u001b[1;33m)\u001b[0m\u001b[1;33m:\u001b[0m\u001b[1;33m\u001b[0m\u001b[1;33m\u001b[0m\u001b[0m\n",
      "\u001b[1;32mc:\\users\\david\\appdata\\local\\programs\\python\\python37-32\\lib\\site-packages\\pymysql\\err.py\u001b[0m in \u001b[0;36mraise_mysql_exception\u001b[1;34m(data)\u001b[0m\n\u001b[0;32m    107\u001b[0m         \u001b[0merrval\u001b[0m \u001b[1;33m=\u001b[0m \u001b[0mdata\u001b[0m\u001b[1;33m[\u001b[0m\u001b[1;36m3\u001b[0m\u001b[1;33m:\u001b[0m\u001b[1;33m]\u001b[0m\u001b[1;33m.\u001b[0m\u001b[0mdecode\u001b[0m\u001b[1;33m(\u001b[0m\u001b[1;34m'utf-8'\u001b[0m\u001b[1;33m,\u001b[0m \u001b[1;34m'replace'\u001b[0m\u001b[1;33m)\u001b[0m\u001b[1;33m\u001b[0m\u001b[1;33m\u001b[0m\u001b[0m\n\u001b[0;32m    108\u001b[0m     \u001b[0merrorclass\u001b[0m \u001b[1;33m=\u001b[0m \u001b[0merror_map\u001b[0m\u001b[1;33m.\u001b[0m\u001b[0mget\u001b[0m\u001b[1;33m(\u001b[0m\u001b[0merrno\u001b[0m\u001b[1;33m,\u001b[0m \u001b[0mInternalError\u001b[0m\u001b[1;33m)\u001b[0m\u001b[1;33m\u001b[0m\u001b[1;33m\u001b[0m\u001b[0m\n\u001b[1;32m--> 109\u001b[1;33m     \u001b[1;32mraise\u001b[0m \u001b[0merrorclass\u001b[0m\u001b[1;33m(\u001b[0m\u001b[0merrno\u001b[0m\u001b[1;33m,\u001b[0m \u001b[0merrval\u001b[0m\u001b[1;33m)\u001b[0m\u001b[1;33m\u001b[0m\u001b[1;33m\u001b[0m\u001b[0m\n\u001b[0m",
      "\u001b[1;31mInternalError\u001b[0m: (1205, 'Lock wait timeout exceeded; try restarting transaction')"
     ]
    }
   ],
   "source": [
    "conn.execute(\"\"\"\n",
    "    UPDATE provincias\n",
    "        SET poblacion=85209\n",
    "        WHERE provincia='Ceuta';\n",
    "\"\"\")"
   ]
  },
  {
   "cell_type": "code",
   "execution_count": null,
   "metadata": {},
   "outputs": [],
   "source": [
    "conn.execute(\"\"\"\n",
    "    SELECT * FROM  provincias\n",
    "        WHERE provincia=\"Ceuta\";\n",
    "\"\"\")\n",
    "rs = conn.fetchall()\n",
    "rs"
   ]
  },
  {
   "cell_type": "code",
   "execution_count": 283,
   "metadata": {},
   "outputs": [
    {
     "data": {
      "text/html": [
       "<div>\n",
       "<style scoped>\n",
       "    .dataframe tbody tr th:only-of-type {\n",
       "        vertical-align: middle;\n",
       "    }\n",
       "\n",
       "    .dataframe tbody tr th {\n",
       "        vertical-align: top;\n",
       "    }\n",
       "\n",
       "    .dataframe thead th {\n",
       "        text-align: right;\n",
       "    }\n",
       "</style>\n",
       "<table border=\"1\" class=\"dataframe\">\n",
       "  <thead>\n",
       "    <tr style=\"text-align: right;\">\n",
       "      <th></th>\n",
       "      <th>autonomia</th>\n",
       "      <th>provincia</th>\n",
       "      <th>poblacion</th>\n",
       "      <th>superficie</th>\n",
       "    </tr>\n",
       "  </thead>\n",
       "  <tbody>\n",
       "    <tr>\n",
       "      <th>47</th>\n",
       "      <td>Canarias</td>\n",
       "      <td>Santa Cruz de Tenerife</td>\n",
       "      <td>1004124.0</td>\n",
       "      <td>3381.0</td>\n",
       "    </tr>\n",
       "    <tr>\n",
       "      <th>48</th>\n",
       "      <td>Canarias</td>\n",
       "      <td>Las Palmas</td>\n",
       "      <td>1097800.0</td>\n",
       "      <td>4065.0</td>\n",
       "    </tr>\n",
       "    <tr>\n",
       "      <th>49</th>\n",
       "      <td>Islas Baleares</td>\n",
       "      <td>Baleares</td>\n",
       "      <td>1107220.0</td>\n",
       "      <td>4991.0</td>\n",
       "    </tr>\n",
       "    <tr>\n",
       "      <th>50</th>\n",
       "      <td>Ciudades autónomas</td>\n",
       "      <td>Ceuta</td>\n",
       "      <td>NaN</td>\n",
       "      <td>NaN</td>\n",
       "    </tr>\n",
       "    <tr>\n",
       "      <th>51</th>\n",
       "      <td>Ciudades autónomas</td>\n",
       "      <td>Melilla</td>\n",
       "      <td>NaN</td>\n",
       "      <td>NaN</td>\n",
       "    </tr>\n",
       "  </tbody>\n",
       "</table>\n",
       "</div>"
      ],
      "text/plain": [
       "             autonomia               provincia  poblacion  superficie\n",
       "47            Canarias  Santa Cruz de Tenerife  1004124.0      3381.0\n",
       "48            Canarias              Las Palmas  1097800.0      4065.0\n",
       "49      Islas Baleares                Baleares  1107220.0      4991.0\n",
       "50  Ciudades autónomas                   Ceuta        NaN         NaN\n",
       "51  Ciudades autónomas                 Melilla        NaN         NaN"
      ]
     },
     "execution_count": 283,
     "metadata": {},
     "output_type": "execute_result"
    }
   ],
   "source": [
    "df[ df.provincia=='Ceuta' ].poblacion.value=85209\n",
    "df.tail()"
   ]
  }
 ],
 "metadata": {
  "kernelspec": {
   "display_name": "Python 3",
   "language": "python",
   "name": "python3"
  },
  "language_info": {
   "codemirror_mode": {
    "name": "ipython",
    "version": 3
   },
   "file_extension": ".py",
   "mimetype": "text/x-python",
   "name": "python",
   "nbconvert_exporter": "python",
   "pygments_lexer": "ipython3",
   "version": "3.7.4"
  }
 },
 "nbformat": 4,
 "nbformat_minor": 4
}
